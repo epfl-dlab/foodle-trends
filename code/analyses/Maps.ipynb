{
 "cells": [
  {
   "cell_type": "code",
   "execution_count": null,
   "metadata": {
    "collapsed": true
   },
   "outputs": [],
   "source": [
    "import matplotlib.pyplot as plt\n",
    "#from datapackage import Package\n",
    "import pandas as pd\n",
    "import numpy as np\n",
    "import geopandas\n",
    "import plotly.express as px\n",
    "import time\n",
    "from scipy.stats import wilcoxon\n",
    "\n",
    "\n",
    "import os\n",
    "parentDirectory = os.path.abspath(os.path.join(os.path.join(os.getcwd(), os.pardir), os.pardir))\n",
    "DATA_DIR = parentDirectory +'/data/'\n",
    "FIGURES_DIR = parentDirectory +'/figures/'\n",
    "%matplotlib inline"
   ]
  },
  {
   "cell_type": "code",
   "execution_count": null,
   "metadata": {
    "collapsed": true
   },
   "outputs": [],
   "source": [
    "'''\n",
    "package = Package('https://datahub.io/core/country-list/datapackage.json')\n",
    "from pycountry_convert import country_alpha2_to_country_name, country_name_to_country_alpha3\n",
    "\n",
    "for resource in package.resources:\n",
    "    if resource.descriptor['datahub']['type'] == 'derived/csv':\n",
    "        df = geopandas.GeoDataFrame(resource.read())\n",
    " \n",
    "df.columns = ['country','code']\n",
    "\n",
    "df['country_alpha_3'] = df.code.apply(lambda x: country_name_to_country_alpha3(country_alpha2_to_country_name(x)))\n",
    "\n",
    "from pytrends.request import TrendReq\n",
    "\n",
    "pytrends = TrendReq(hl='en-US', tz=360)\n",
    "\n",
    "\n",
    "list_entries = []\n",
    "\n",
    "for _,row in df.iterrows():\n",
    "    try:\n",
    "        print(row['code'])\n",
    "\n",
    "        entry = {}\n",
    "        #collect recipe\n",
    "        pytrends.build_payload(kw_list=['/m/0p57p'], cat =0,geo = row['code'], timeframe='2019-01-01 2020-12-31')\n",
    "        resp = pytrends.interest_over_time()\n",
    "        resp = resp.reset_index()\n",
    "        resp = resp.drop(['isPartial'], axis = 1)\n",
    "\n",
    "        entry['country'] = row['country']\n",
    "        entry['code2'] = row['code'] \n",
    "        entry['code3'] = row['country_alpha_3'] \n",
    "        entry['series'] = 'recipie'\n",
    "        entry['values'] = resp['/m/0p57p'].values\n",
    "        list_entries.append(entry)\n",
    "\n",
    "\n",
    "        entry = {}\n",
    "        #collect restaurant\n",
    "        pytrends.build_payload(kw_list=['/m/06l8d'], cat =0,geo = row['code'], timeframe='2019-01-01 2020-12-31')\n",
    "        resp = pytrends.interest_over_time()\n",
    "        resp = resp.reset_index()\n",
    "        resp = resp.drop(['isPartial'], axis = 1)\n",
    "\n",
    "        entry['country'] = row['country']\n",
    "        entry['code2'] = row['code'] \n",
    "        entry['code3'] = row['country_alpha_3'] \n",
    "        entry['series'] = 'restaurant'\n",
    "        entry['values'] = resp['/m/06l8d'].values\n",
    "        list_entries.append(entry)\n",
    "\n",
    "        time.sleep(3)\n",
    "    except:\n",
    "        continue\n",
    "        \n",
    "df_to_plt = pd.DataFrame(list_entries)\n",
    "\n",
    "df_to_plt.to_pickle(\"dataframe_map.pckl\")\n",
    "''';"
   ]
  },
  {
   "cell_type": "code",
   "execution_count": null,
   "metadata": {},
   "outputs": [],
   "source": [
    "def calculate_p_val(x):\n",
    "    if len(x)==52*2:\n",
    "        return wilcoxon(x[52:] - x[:52])[1]\n",
    "    else:\n",
    "        return 1\n",
    "\n",
    "df_to_plt = pd.read_pickle(DATA_DIR + \"dataframe_map.pickle\")\n",
    "df_to_plt['change_2020'] = df_to_plt['values'].apply(lambda x: (np.sum(x[52:]) \\\n",
    "                                                                - np.sum(x[:52]))/np.sum(x[:52]))\n",
    "\n",
    "df_to_plt['p_value'] = df_to_plt['values'].apply(lambda x: calculate_p_val(x))"
   ]
  },
  {
   "cell_type": "code",
   "execution_count": null,
   "metadata": {
    "collapsed": true
   },
   "outputs": [],
   "source": [
    "df_to_plt['Percentage change'] = df_to_plt[\"change_2020\"]"
   ]
  },
  {
   "cell_type": "code",
   "execution_count": null,
   "metadata": {
    "collapsed": true
   },
   "outputs": [],
   "source": [
    "fig = px.choropleth(df_to_plt.loc[(df_to_plt['series']=='recipie') & \\\n",
    "                                  (df_to_plt['p_value']<0.05)], locations=\"code3\", \n",
    "                    locationmode=\"ISO-3\", color=\"Percentage change\", \n",
    "                    hover_name=\"country\", range_color=[-0.75,0.75], \n",
    "                    color_continuous_scale=\"RdBu\",width = 900, height = 305)\n",
    "\n",
    "fig.update(layout_coloraxis_showscale=True, layout_title_text='')\n",
    "fig.update_layout(\n",
    "                 margin_r = 0,margin_l = 5,margin_b = 0,margin_t = 0,# customize legend orientation & positio\n",
    "    )\n",
    "fig.update_geos(\n",
    "    resolution=110,\n",
    "    showcoastlines=True, coastlinecolor=\"Black\",countrywidth = 0.1,\n",
    "    showland=True, landcolor=\"Gray\",\n",
    "    showocean=False, oceancolor=\"LightBlue\", countrycolor = \"Black\",\n",
    "    #showlakes=True, lakecolor=\"Blue\",\n",
    "    #showrivers=True, rivercolor=\"Blue\"\n",
    "    center = {'lat': 30,'lon':0}\n",
    ")\n",
    "    \n",
    "\n",
    "fig.write_image(FIGURES_DIR + 'recipe_map.pdf')"
   ]
  },
  {
   "cell_type": "code",
   "execution_count": null,
   "metadata": {
    "collapsed": true
   },
   "outputs": [],
   "source": [
    "fig = px.choropleth(df_to_plt.loc[(df_to_plt['series']=='restaurant') & \\\n",
    "                                  (df_to_plt['p_value']<0.05)], locations=\"code3\", \n",
    "                    locationmode=\"ISO-3\", color=\"Percentage change\", \n",
    "                    hover_name=\"country\", range_color=[-0.75,0.75], \n",
    "                    color_continuous_scale=\"RdBu\",width = 900, height = 305)\n",
    "\n",
    "fig.update(layout_coloraxis_showscale=True, layout_title_text='')\n",
    "fig.update_layout(\n",
    "                 margin_r = 0,margin_l = 5,margin_b = 0,margin_t = 0,# customize legend orientation & positio\n",
    "    )\n",
    "fig.update_geos(\n",
    "    resolution=110,\n",
    "    showcoastlines=True, coastlinecolor=\"Black\",\n",
    "    showland=True, landcolor=\"Gray\",\n",
    "    showocean=False, oceancolor=\"LightBlue\",\n",
    "    #showlakes=True, lakecolor=\"Blue\",\n",
    "    #showrivers=True, rivercolor=\"Blue\"\n",
    "    center = {'lat': 30,'lon':0}\n",
    ")\n",
    "\n",
    "fig.update_geos(\n",
    "    countrywidth = 0.1,countrycolor = \"Black\"\n",
    ")\n",
    "    \n",
    "\n",
    "fig.write_image(FIGURES_DIR + 'restaurant_map.pdf')"
   ]
  }
 ],
 "metadata": {
  "kernelspec": {
   "display_name": "Python 3",
   "language": "python",
   "name": "python3"
  },
  "language_info": {
   "codemirror_mode": {
    "name": "ipython",
    "version": 3
   },
   "file_extension": ".py",
   "mimetype": "text/x-python",
   "name": "python",
   "nbconvert_exporter": "python",
   "pygments_lexer": "ipython3",
   "version": "3.6.3"
  },
  "varInspector": {
   "cols": {
    "lenName": 16,
    "lenType": 16,
    "lenVar": 40
   },
   "kernels_config": {
    "python": {
     "delete_cmd_postfix": "",
     "delete_cmd_prefix": "del ",
     "library": "var_list.py",
     "varRefreshCmd": "print(var_dic_list())"
    },
    "r": {
     "delete_cmd_postfix": ") ",
     "delete_cmd_prefix": "rm(",
     "library": "var_list.r",
     "varRefreshCmd": "cat(var_dic_list()) "
    }
   },
   "types_to_exclude": [
    "module",
    "function",
    "builtin_function_or_method",
    "instance",
    "_Feature"
   ],
   "window_display": false
  }
 },
 "nbformat": 4,
 "nbformat_minor": 4
}
