{
 "cells": [
  {
   "cell_type": "code",
   "execution_count": 1,
   "metadata": {},
   "outputs": [],
   "source": [
    "import pandas as pd\n",
    "import os\n",
    "import numpy as np\n",
    "from scipy.stats import pearsonr\n",
    "from scipy.stats import spearmanr"
   ]
  },
  {
   "cell_type": "code",
   "execution_count": 2,
   "metadata": {},
   "outputs": [],
   "source": [
    "parentDirectory = os.path.abspath(os.path.join(os.path.join(os.getcwd(), os.pardir), os.pardir))\n",
    "DATA_DIR = parentDirectory +'/data/'\n",
    "FIGURES_DIR = parentDirectory +'/figures/'\n",
    "\n",
    "def make_stars(val):\n",
    "    if val<0.0001:\n",
    "        return '****'\n",
    "    elif val<0.001:\n",
    "        return '***'\n",
    "    elif val<0.01:\n",
    "        return '**'\n",
    "    elif val<0.05:\n",
    "        return '*'\n",
    "    else:\n",
    "        return ''"
   ]
  },
  {
   "cell_type": "code",
   "execution_count": null,
   "metadata": {},
   "outputs": [],
   "source": [
    "df = pd.read_parquet(DATA_DIR+'dk_new_food_timeseries_items1.parquet')"
   ]
  },
  {
   "cell_type": "code",
   "execution_count": null,
   "metadata": {},
   "outputs": [],
   "source": [
    "df = df.loc[df['name']!='Bánh mì']"
   ]
  },
  {
   "cell_type": "code",
   "execution_count": null,
   "metadata": {},
   "outputs": [],
   "source": [
    "df.head()"
   ]
  },
  {
   "cell_type": "code",
   "execution_count": null,
   "metadata": {},
   "outputs": [],
   "source": [
    "df_mobility = pd.read_csv(DATA_DIR+'df_mobility.csv')"
   ]
  },
  {
   "cell_type": "code",
   "execution_count": null,
   "metadata": {},
   "outputs": [],
   "source": [
    "full_names = {\n",
    "    'AU': 'Australia',\n",
    "    'BR': 'Brazil',\n",
    "    'CA': 'Canada',\n",
    "    'FR': 'France',\n",
    "    'DE': 'Germany',\n",
    "    'IN': 'India',\n",
    "    'IT': 'Italy',\n",
    "    'MX': 'Mexico',\n",
    "    'ES': 'Spain',\n",
    "    'GB': 'United Kingdom',\n",
    "    'US': 'United States',\n",
    "    'DK': 'Denmark'\n",
    "}\n",
    "\n",
    "def chunker(seq, size):\n",
    "    return (seq[pos:pos + size] for pos in range(0, len(seq), size))\n",
    "\n",
    "event_dicts = [{'country': 'AU',\n",
    "  'start_md_1': '2020-03-27',\n",
    "  'end_md_1': '2020-06-07',\n",
    "  'start_md_2': np.nan},\n",
    " {'country': 'BR',\n",
    "  'start_md_1': '2020-03-23',\n",
    "  'end_md_1': '2020-08-09',\n",
    "  'start_md_2': np.nan},\n",
    " {'country': 'CA',\n",
    "  'start_md_1': '2020-03-19',\n",
    "  'end_md_1': '2020-06-21',\n",
    "  'start_md_2': '2020-10-12'},\n",
    " {'country': 'DE',\n",
    "  'start_md_1': '2020-03-21',\n",
    "  'end_md_1': '2020-05-09',\n",
    "  'start_md_2': '2020-12-18'},\n",
    " {'country': 'DK',\n",
    "  'start_md_1': '2020-03-17',\n",
    "  'end_md_1': '2020-05-07',\n",
    "  'start_md_2': np.nan},\n",
    " {'country': 'ES',\n",
    "  'start_md_1': '2020-03-17',\n",
    "  'end_md_1': '2020-06-14',\n",
    "  'start_md_2': '2020-11-07'},\n",
    " {'country': 'FR',\n",
    "  'start_md_1': '2020-03-18',\n",
    "  'end_md_1': '2020-06-08',\n",
    "  'start_md_2': '2020-11-01'},\n",
    " {'country': 'GB',\n",
    "  'start_md_1': '2020-03-23',\n",
    "  'end_md_1': '2020-08-03',\n",
    "  'start_md_2': '2020-10-21'},\n",
    " {'country': 'IN',\n",
    "  'start_md_1': '2020-03-24',\n",
    "  'end_md_1': '2020-10-29',\n",
    "  'start_md_2': np.nan},\n",
    " {'country': 'IT',\n",
    "  'start_md_1': '2020-03-11',\n",
    "  'end_md_1': '2020-06-06',\n",
    "  'start_md_2': '2020-11-06'},\n",
    " {'country': 'JP',\n",
    "  'start_md_1': '2020-04-12',\n",
    "  'end_md_1': '2020-05-30',\n",
    "  'start_md_2': np.nan},\n",
    " {'country': 'KE',\n",
    "  'start_md_1': '2020-03-24',\n",
    "  'end_md_1': '2020-10-04',\n",
    "  'start_md_2': np.nan},\n",
    " {'country': 'MX',\n",
    "  'start_md_1': '2020-03-25',\n",
    "  'end_md_1': '2020-10-06',\n",
    "  'start_md_2': np.nan},\n",
    " {'country': 'NG',\n",
    "  'start_md_1': '2020-03-27',\n",
    "  'end_md_1': '2020-08-09',\n",
    "  'start_md_2': np.nan},\n",
    " {'country': 'US',\n",
    "  'start_md_1': '2020-03-21',\n",
    "  'end_md_1': '2020-06-11',\n",
    "  'start_md_2': '2020-11-26'}]\n",
    "\n",
    "df_events = pd.DataFrame(event_dicts)\n",
    "df_events['start_md_1'] = pd.to_datetime(df_events['start_md_1'])\n",
    "df_events['end_md_1'] = pd.to_datetime(df_events['end_md_1'])\n",
    "df_events['start_md_2'] = pd.to_datetime(df_events['start_md_2'])\n",
    "\n",
    "df_agg = pd.read_pickle(DATA_DIR+'df_agg_cats.pickle')"
   ]
  },
  {
   "cell_type": "code",
   "execution_count": null,
   "metadata": {},
   "outputs": [],
   "source": [
    "df = df.loc[df['country_code'].isin(full_names.keys())]"
   ]
  },
  {
   "cell_type": "code",
   "execution_count": null,
   "metadata": {},
   "outputs": [],
   "source": [
    "df_agg = df_agg.loc[df_agg['country'].isin(full_names.keys())]\n",
    "studied_weeks = list(df_agg.iloc[0]['volume_weekly_total'].index)[-46:]\n",
    "\n",
    "mobility_ts = {}\n",
    "\n",
    "for country, gr in df_mobility.groupby('country_region_code'):\n",
    "    mobility_dict = {}\n",
    "    gr = gr.iloc[1:323]\n",
    "    for i in chunker(gr,7):\n",
    "        mobility_dict[i.iloc[0]['date']] = (i['residential_percent_change_from_baseline'].mean())\n",
    "    mobility_ts[country] = mobility_dict"
   ]
  },
  {
   "cell_type": "code",
   "execution_count": null,
   "metadata": {},
   "outputs": [],
   "source": [
    "entry_list = []\n",
    "\n",
    "c = 0\n",
    "for category, gr1 in df.groupby('name'):\n",
    "    for country, gr2 in gr1.groupby('country_code'):\n",
    "        c+=1\n",
    "        entry = {}\n",
    "        y = list(mobility_ts[country].values())\n",
    "        x = list(gr2.iloc[0]['ts']['max_ratio'].values())[-46:]\n",
    "        entry['name'] = category\n",
    "        entry['category'] = gr2.iloc[0]['category']\n",
    "        entry['country'] = country\n",
    "        entry['corr'] = spearmanr(x,y)[0]\n",
    "        entry['p'] = spearmanr(x,y)[1]\n",
    "        \n",
    "        entry_list.append(entry)"
   ]
  },
  {
   "cell_type": "code",
   "execution_count": null,
   "metadata": {},
   "outputs": [],
   "source": [
    "df_results = pd.DataFrame(entry_list)"
   ]
  },
  {
   "cell_type": "code",
   "execution_count": null,
   "metadata": {},
   "outputs": [],
   "source": [
    "tmp = df_results.groupby('name').apply(lambda x: pd.Series({\n",
    "    'corr_avg': x['corr'].mean(), \n",
    "    'category': x['category'].unique()[0],\n",
    "    'C': x['country'].unique(),\n",
    "    'exists_all_countries': len(x)==12,\n",
    "    'all': x[['country','corr','p']]\n",
    "    })).reset_index()\n",
    "tmp = tmp.loc[tmp['exists_all_countries']]"
   ]
  },
  {
   "cell_type": "code",
   "execution_count": null,
   "metadata": {},
   "outputs": [],
   "source": [
    "tmp.sort_values(by = 'corr_avg', ascending =  False).head(10)[['name','corr_avg','category']]"
   ]
  },
  {
   "cell_type": "code",
   "execution_count": null,
   "metadata": {},
   "outputs": [],
   "source": [
    "for i,row in tmp.sort_values(by = 'corr_avg', ascending =  False).head(10)[['name','corr_avg','category','all']].iterrows():\n",
    "    print(row['name'])\n",
    "    print(round(row['corr_avg'],2))\n",
    "    print(row['category'])\n",
    "    for c,r in row['all'].iterrows():\n",
    "        print(r['country'], round(r['corr'],2),make_stars(r['p']))\n",
    "    print('----------------------------------')\n",
    "    print('\\n')\n",
    "    "
   ]
  },
  {
   "cell_type": "code",
   "execution_count": null,
   "metadata": {},
   "outputs": [],
   "source": [
    "tmp.sort_values(by = 'corr_avg', ascending =  True).head(10)[['name','corr_avg','category']]"
   ]
  },
  {
   "cell_type": "code",
   "execution_count": null,
   "metadata": {},
   "outputs": [],
   "source": [
    "for i,row in tmp.sort_values(by = 'corr_avg', ascending =  True).head(10)[['name','corr_avg','category','all']].iterrows():\n",
    "    print(row['name'])\n",
    "    print(round(row['corr_avg'],2))\n",
    "    print(row['category'])\n",
    "    for c,r in row['all'].iterrows():\n",
    "        print(r['country'], round(r['corr'],2),make_stars(r['p']))\n",
    "    print('----------------------------------')\n",
    "    print('\\n')\n",
    "    "
   ]
  },
  {
   "cell_type": "code",
   "execution_count": null,
   "metadata": {},
   "outputs": [],
   "source": [
    "df = pd.read_parquet(DATA_DIR+'modes_fine.parquet')"
   ]
  },
  {
   "cell_type": "code",
   "execution_count": null,
   "metadata": {},
   "outputs": [],
   "source": []
  },
  {
   "cell_type": "code",
   "execution_count": null,
   "metadata": {},
   "outputs": [],
   "source": [
    "entry_list = []\n",
    "\n",
    "c = 0\n",
    "for category, gr1 in df.groupby('name'):\n",
    "    for country, gr2 in gr1.groupby('country_code'):\n",
    "        c+=1\n",
    "        entry = {}\n",
    "        y = list(mobility_ts[country].values())\n",
    "        x = list(gr2.iloc[0]['ts']['max_ratio'].values())[-46:]\n",
    "        entry['name'] = category\n",
    "        entry['category'] = gr2.iloc[0]['category']\n",
    "        entry['country'] = country\n",
    "        entry['corr'] = spearmanr(x,y)[0]\n",
    "        entry['p'] = spearmanr(x,y)[1]\n",
    "        \n",
    "        entry_list.append(entry)"
   ]
  },
  {
   "cell_type": "code",
   "execution_count": null,
   "metadata": {},
   "outputs": [],
   "source": [
    "df_results_modes = pd.DataFrame(entry_list)"
   ]
  },
  {
   "cell_type": "code",
   "execution_count": null,
   "metadata": {},
   "outputs": [],
   "source": [
    "tmp = df_results_modes.groupby('name').apply(lambda x: pd.Series({\n",
    "    'corr_avg': x['corr'].mean(), \n",
    "    'category': x['category'].unique()[0],\n",
    "    'C': x['country'].unique(),\n",
    "    'all': x[['country','corr','p']]\n",
    "    })).reset_index()\n"
   ]
  },
  {
   "cell_type": "code",
   "execution_count": null,
   "metadata": {},
   "outputs": [],
   "source": [
    "tmp.sort_values(by = 'corr_avg', ascending =  False)[['name','corr_avg','category']]"
   ]
  },
  {
   "cell_type": "code",
   "execution_count": null,
   "metadata": {},
   "outputs": [],
   "source": [
    "for i,row in tmp.sort_values(by = 'corr_avg', ascending =  False)[['name','corr_avg','category','all']].iterrows():\n",
    "    print(row['name'])\n",
    "    print(round(row['corr_avg'],2))\n",
    "    print(row['category'])\n",
    "    if row['name']!='Lunchbox':\n",
    "        for c,r in row['all'].iterrows():\n",
    "            print(r['country'], round(r['corr'],2),make_stars(r['p']))\n",
    "    print('----------------------------------')\n",
    "    print('\\n')"
   ]
  },
  {
   "cell_type": "code",
   "execution_count": null,
   "metadata": {},
   "outputs": [],
   "source": []
  },
  {
   "cell_type": "code",
   "execution_count": null,
   "metadata": {},
   "outputs": [],
   "source": []
  }
 ],
 "metadata": {
  "kernelspec": {
   "display_name": "Python 3",
   "language": "python",
   "name": "python3"
  },
  "language_info": {
   "codemirror_mode": {
    "name": "ipython",
    "version": 3
   },
   "file_extension": ".py",
   "mimetype": "text/x-python",
   "name": "python",
   "nbconvert_exporter": "python",
   "pygments_lexer": "ipython3",
   "version": "3.7.7"
  }
 },
 "nbformat": 4,
 "nbformat_minor": 4
}
