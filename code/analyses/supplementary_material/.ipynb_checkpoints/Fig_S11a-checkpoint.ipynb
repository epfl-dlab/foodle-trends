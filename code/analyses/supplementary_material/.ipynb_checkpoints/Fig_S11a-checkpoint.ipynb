{
 "cells": [
  {
   "cell_type": "code",
   "execution_count": 1,
   "metadata": {
    "collapsed": true
   },
   "outputs": [],
   "source": [
    "import pandas as pd\n",
    "import numpy as np\n",
    "import pandas as pd\n",
    "%matplotlib inline\n",
    "import numpy as np\n",
    "import matplotlib.pyplot as plt\n",
    "import math \n",
    "import seaborn as sns\n",
    "import matplotlib.colors as mcolors\n",
    "import statsmodels.api as sm\n",
    "import statsmodels.formula.api as smf\n",
    "from statsmodels.formula.api import ols\n",
    "from statsmodels.formula.api import mixedlm\n",
    "import os\n",
    "from scipy.stats import pearsonr\n",
    "\n",
    "colors = list(mcolors.TABLEAU_COLORS.keys())*2\n",
    "\n",
    "\n",
    "parentDirectory = os.path.abspath(os.path.join(os.path.join(os.path.join(os.getcwd(), os.pardir), os.pardir),os.pardir))\n",
    "DATA_DIR = parentDirectory +'/data/'\n",
    "FIGURES_DIR = parentDirectory +'/figures/'\n",
    "\n",
    "df_agg = pd.read_pickle(DATA_DIR+'df_agg_modes.pickle')\n",
    "\n",
    "\n",
    "full_names = {\n",
    "    'AU': 'Australia',\n",
    "    'BR': 'Brazil',\n",
    "    'CA': 'Canada',\n",
    "    'FR': 'France',\n",
    "    'DE': 'Germany',\n",
    "    'IN': 'India',\n",
    "    'IT': 'Italy',\n",
    "    'MX': 'Mexico',\n",
    "    'ES': 'Spain',\n",
    "    'GB': 'United Kingdom',\n",
    "    'US': 'United States',\n",
    "    'DK': 'Denmark',\n",
    "    'KE': 'Kenya', \n",
    "    'NG': 'Nigeria',\n",
    "    'JP': 'Japan',\n",
    "    'SE': 'Sweden',\n",
    "    'ID': 'Indonesia',\n",
    "    'EG': 'Egypt'\n",
    "}\n",
    "\n",
    "event_dicts = [{'country': 'AU',\n",
    "  'end_md_1': '2020-06-07',\n",
    "  'start_md_1': '2020-03-27',\n",
    "  'start_md_2': np.nan},\n",
    " {'country': 'BR',\n",
    "  'end_md_1': '2020-08-09',\n",
    "  'start_md_1': '2020-03-23',\n",
    "  'start_md_2': np.nan},\n",
    " {'country': 'CA',\n",
    "  'end_md_1': '2020-06-21',\n",
    "  'start_md_1': '2020-03-19',\n",
    "  'start_md_2': '2020-10-12'},\n",
    " {'country': 'DE',\n",
    "  'end_md_1': '2020-05-09',\n",
    "  'start_md_1': '2020-03-21',\n",
    "  'start_md_2': '2020-12-18'},\n",
    " {'country': 'DK',\n",
    "  'end_md_1': '2020-05-07',\n",
    "  'start_md_1': '2020-03-17',\n",
    "  'start_md_2': np.nan},\n",
    " {'country': 'EG',\n",
    "  'end_md_1': '2020-07-01',\n",
    "  'start_md_1': '2020-03-24',\n",
    "  'start_md_2': np.nan},\n",
    " {'country': 'ES',\n",
    "  'end_md_1': '2020-06-14',\n",
    "  'start_md_1': '2020-03-17',\n",
    "  'start_md_2': '2020-11-07'},\n",
    " {'country': 'FR',\n",
    "  'end_md_1': '2020-06-08',\n",
    "  'start_md_1': '2020-03-18',\n",
    "  'start_md_2': '2020-11-01'},\n",
    " {'country': 'GB',\n",
    "  'end_md_1': '2020-08-03',\n",
    "  'start_md_1': '2020-03-23',\n",
    "  'start_md_2': '2020-10-21'},\n",
    " {'country': 'ID',\n",
    "  'end_md_1': '2020-08-10',\n",
    "  'start_md_1': '2020-03-24',\n",
    "  'start_md_2': np.nan},\n",
    " {'country': 'IN',\n",
    "  'end_md_1': '2020-10-29',\n",
    "  'start_md_1': '2020-03-24',\n",
    "  'start_md_2': np.nan},\n",
    " {'country': 'IT',\n",
    "  'end_md_1': '2020-06-06',\n",
    "  'start_md_1': '2020-03-11',\n",
    "  'start_md_2': '2020-11-06'},\n",
    " {'country': 'JP',\n",
    "  'end_md_1': '2020-05-30',\n",
    "  'start_md_1': '2020-04-12',\n",
    "  'start_md_2': np.nan},\n",
    " {'country': 'KE',\n",
    "  'end_md_1': '2020-10-04',\n",
    "  'start_md_1': '2020-03-24',\n",
    "  'start_md_2': np.nan},\n",
    " {'country': 'MX',\n",
    "  'end_md_1': '2020-10-06',\n",
    "  'start_md_1': '2020-03-25',\n",
    "  'start_md_2': np.nan},\n",
    " {'country': 'NG',\n",
    "  'end_md_1': '2020-08-09',\n",
    "  'start_md_1': '2020-03-27',\n",
    "  'start_md_2': np.nan},\n",
    " {'country': 'SE',\n",
    "  'end_md_1': '2020-04-09',\n",
    "  'start_md_1': '2020-04-03',\n",
    "  'start_md_2': np.nan},\n",
    " {'country': 'US',\n",
    "  'end_md_1': '2020-06-11',\n",
    "  'start_md_1': '2020-03-21',\n",
    "  'start_md_2': '2020-11-26'}]\n",
    "df_events = pd.DataFrame(event_dicts)\n",
    "\n",
    "df_events['start_md_1'] = pd.to_datetime(df_events['start_md_1'])\n",
    "df_events['end_md_1'] = pd.to_datetime(df_events['end_md_1'])\n",
    "df_events['start_md_2'] = pd.to_datetime(df_events['start_md_2'])"
   ]
  },
  {
   "cell_type": "code",
   "execution_count": 2,
   "metadata": {
    "collapsed": true
   },
   "outputs": [],
   "source": [
    "second_wave_countries = []\n",
    "\n",
    "for i in event_dicts:\n",
    "    if type(i['start_md_2'])==str:\n",
    "        second_wave_countries.append(i['country'])\n",
    "        \n",
    "df_agg = df_agg.loc[(df_agg['country'].isin(second_wave_countries)) & (df_agg['country']!='DE')]"
   ]
  },
  {
   "cell_type": "code",
   "execution_count": 3,
   "metadata": {
    "collapsed": true
   },
   "outputs": [],
   "source": [
    "weeks_2019 = list(df_agg.iloc[0]['volume_weekly_total'].index)[:52]\n",
    "weeks_2020 = list(df_agg.iloc[0]['volume_weekly_total'].index)[52:]"
   ]
  },
  {
   "cell_type": "code",
   "execution_count": 4,
   "metadata": {
    "collapsed": true
   },
   "outputs": [],
   "source": [
    "l = []\n",
    "for cnt, row in df_agg.iterrows():\n",
    "    start_md = df_events.loc[df_events['country'] == row['country']].iloc[0]['start_md_1']\n",
    "    end_md = df_events.loc[df_events['country'] == row['country']].iloc[0]['end_md_1']\n",
    "    start_md2 = df_events.loc[df_events['country'] == row['country']].iloc[0]['start_md_2']\n",
    "    \n",
    "    for week in zip(row['volume_weekly_total'].index,row['volume_weekly_total'].values,row['volume_percent_weekly_total'].values):\n",
    "        \n",
    "        entry = {}\n",
    "\n",
    "        entry['country'] = row['country']\n",
    "        entry['category'] = row['category']\n",
    "        \n",
    "\n",
    "        if week[0] in weeks_2020:\n",
    "            date = pd.to_datetime(week[0])\n",
    "\n",
    "            entry['k'] = math.floor(((date - start_md2).days +7) / 7)\n",
    "            entry['volume_total'] = week[1]\n",
    "            entry['volume_percent'] = week[2]\n",
    "            entry['year'] = '2020'\n",
    "            l.append(entry)\n",
    "\n",
    "        elif week[0] in weeks_2019:\n",
    "            date = pd.to_datetime(weeks_2020[weeks_2019.index(week[0])])\n",
    "        \n",
    "\n",
    "            entry['k'] = math.floor(((date - start_md2).days +7) / 7)\n",
    "            entry['volume_total'] = week[1]\n",
    "            entry['volume_percent'] = week[2]\n",
    "            entry['year'] = '2019'\n",
    "            l.append(entry)\n",
    "df = pd.DataFrame(l)"
   ]
  },
  {
   "cell_type": "code",
   "execution_count": 5,
   "metadata": {
    "collapsed": true
   },
   "outputs": [],
   "source": [
    "\n",
    "df = df.loc[(df['k'] >= -30) & (df['k'] <= 30)].copy()\n",
    "df['intervention_flag'] = df['k'].apply(lambda x: 1 if x >= 0 else 0)"
   ]
  },
  {
   "cell_type": "code",
   "execution_count": 6,
   "metadata": {},
   "outputs": [
    {
     "data": {
      "text/plain": [
       "country\n",
       "CA   -30\n",
       "ES   -30\n",
       "FR   -30\n",
       "GB   -30\n",
       "IT   -30\n",
       "US   -30\n",
       "Name: k, dtype: int64"
      ]
     },
     "execution_count": 6,
     "metadata": {},
     "output_type": "execute_result"
    }
   ],
   "source": [
    "df.groupby('country')['k'].agg('min')"
   ]
  },
  {
   "cell_type": "code",
   "execution_count": 7,
   "metadata": {},
   "outputs": [
    {
     "data": {
      "text/plain": [
       "country\n",
       "CA    11\n",
       "ES     8\n",
       "FR     9\n",
       "GB    10\n",
       "IT     8\n",
       "US     5\n",
       "Name: k, dtype: int64"
      ]
     },
     "execution_count": 7,
     "metadata": {},
     "output_type": "execute_result"
    }
   ],
   "source": [
    "df.groupby('country')['k'].agg('max')"
   ]
  },
  {
   "cell_type": "code",
   "execution_count": 8,
   "metadata": {
    "collapsed": true
   },
   "outputs": [],
   "source": [
    "#helpers\n",
    "\n",
    "def generate_equation(order):\n",
    "    if order == 'Cubic':\n",
    "        eq = \"volume_total ~ intervention_flag*k*year + intervention_flag*np.power(k,2)*year + intervention_flag*np.power(k,3)*year\"\n",
    "    elif order == \"Quadratic\":\n",
    "        eq = \"volume_total ~ intervention_flag*k*year + intervention_flag*np.power(k,2)*year\"\n",
    "    elif order == \"Linear\":\n",
    "        eq = \"volume_total ~ intervention_flag*k*year\"\n",
    "    elif order == 'Constant':\n",
    "        eq = \"volume_total ~ intervention_flag*year\"\n",
    "    return eq\n",
    "    \n",
    "def generate_equation_interactions(order):\n",
    "    if order == 'Cubic':\n",
    "        eq = \"volume_total ~ intervention_flag*k*year*C(country)*C(category) + intervention_flag*np.power(k,2)*year*C(country)*C(category) + intervention_flag*np.power(k,3)*year*C(country)*C(category)\"\n",
    "    elif order == \"Quadratic\":\n",
    "        eq = \"volume_total ~ intervention_flag*k*year*C(country)*C(category) + intervention_flag*np.power(k,2)*year*C(country)*C(category)\"\n",
    "    elif order == \"Linear\":\n",
    "        eq = \"volume_total ~ intervention_flag*k*year*C(country)*C(category)\"\n",
    "    elif order == 'Constant':\n",
    "        eq = \"volume_total ~ intervention_flag*year*C(country)*C(category)\"\n",
    "    return eq\n",
    "\n",
    "def get_standard_error_sum(covariates):\n",
    "    '''\n",
    "    #95CI is approximated with +- 2 sum_variance_standard_error\n",
    "    '''\n",
    "    \n",
    "    #get the variance covariance matrix\n",
    "    vcov = result_interactions.cov_params()\\\n",
    "        .loc[covariates,covariates].values\n",
    "    \n",
    "    #calculate the sum of all pair wise covariances by summing up\n",
    "    m_sum = np.sum(vcov)\n",
    "    \n",
    "    #variance of a sum of variables is the square root\n",
    "    return np.sqrt((m_sum))"
   ]
  },
  {
   "cell_type": "code",
   "execution_count": 9,
   "metadata": {
    "collapsed": true
   },
   "outputs": [],
   "source": [
    "k=30\n",
    "df_temp = df.loc[(df['k'] >= -k) & (df['k'] <= k)].copy()\n",
    "df_temp['volume_total'] = df_temp['volume_total'].apply(np.log)\n",
    "mod = smf.ols(generate_equation_interactions('Quadratic'), data = df_temp)\n",
    "result_interactions = mod.fit(cov_type='hc0')"
   ]
  },
  {
   "cell_type": "code",
   "execution_count": 10,
   "metadata": {
    "collapsed": true
   },
   "outputs": [],
   "source": [
    "cats = ['Mode 1','Mode 2','Mode 3','Mode 4']"
   ]
  },
  {
   "cell_type": "code",
   "execution_count": 11,
   "metadata": {
    "collapsed": true
   },
   "outputs": [],
   "source": [
    "default_country = 'CA'\n",
    "default_category = 'Mode 1'\n",
    "\n",
    "alpha_baseline = 'intervention_flag:year[T.2020]'\n",
    "beta_baseline = 'intervention_flag:k:year[T.2020]'\n",
    "gamma_baseline = 'intervention_flag:np.power(k, 2):year[T.2020]'\n",
    "\n",
    "list_results = []\n",
    "\n",
    "\n",
    "\n",
    "for country in second_wave_countries:\n",
    "    if country =='DE':\n",
    "        continue\n",
    "    for c in cats:\n",
    "        \n",
    "        entry = {}\n",
    "        entry['country']  = country\n",
    "        entry['category'] = c\n",
    "        \n",
    "        suffix_country = (':C(country)[T.'+country+']')\n",
    "        suffix_category = (':C(category)[T.'+c+']')\n",
    "        \n",
    "        if country == default_country and c == default_category:\n",
    "            \n",
    "            total_alpha = (result_interactions.params[alpha_baseline])\n",
    "            total_alpha_error = (result_interactions.bse[alpha_baseline])\n",
    "            \n",
    "            total_beta = (result_interactions.params[beta_baseline])\n",
    "            total_beta_error = (result_interactions.bse[beta_baseline])\n",
    "            \n",
    "            total_gamma = (result_interactions.params[gamma_baseline])\n",
    "            total_gamma_error = (result_interactions.bse[gamma_baseline])\n",
    "            \n",
    "        elif country == default_country and c != default_category:\n",
    "            \n",
    "            total_alpha = (result_interactions.params[alpha_baseline]) \\\n",
    "                    + (result_interactions.params[alpha_baseline + suffix_category]) \n",
    "            total_alpha_error = (get_standard_error_sum([alpha_baseline, \n",
    "                                                         alpha_baseline + suffix_category]))\n",
    "            \n",
    "            total_beta = (result_interactions.params[beta_baseline]) \\\n",
    "                    + (result_interactions.params[beta_baseline + suffix_category]) \n",
    "            total_beta_error = (get_standard_error_sum([beta_baseline, \n",
    "                                                         beta_baseline + suffix_category]))\n",
    "            \n",
    "            total_gamma = (result_interactions.params[gamma_baseline]) \\\n",
    "                    + (result_interactions.params[gamma_baseline + suffix_category]) \n",
    "            total_gamma_error = (get_standard_error_sum([gamma_baseline, \n",
    "                                                         gamma_baseline + suffix_category]))\n",
    "\n",
    "        elif country != default_country and c == default_category:\n",
    "            \n",
    "            total_alpha = (result_interactions.params[alpha_baseline]) \\\n",
    "                    + (result_interactions.params[alpha_baseline + suffix_country]) \n",
    "            total_alpha_error = (get_standard_error_sum([alpha_baseline,\n",
    "                                                         alpha_baseline + suffix_country]))\n",
    "            \n",
    "            total_beta = (result_interactions.params[beta_baseline]) \\\n",
    "                    + (result_interactions.params[beta_baseline + suffix_country]) \n",
    "            total_beta_error = (get_standard_error_sum([beta_baseline,\n",
    "                                                         beta_baseline + suffix_country]))\n",
    "            \n",
    "            total_gamma = (result_interactions.params[gamma_baseline]) \\\n",
    "                    + (result_interactions.params[gamma_baseline + suffix_country]) \n",
    "            total_gamma_error = (get_standard_error_sum([gamma_baseline,\n",
    "                                                         gamma_baseline + suffix_country]))\n",
    "\n",
    "        else:\n",
    "            total_alpha = (result_interactions.params[alpha_baseline]) \\\n",
    "                    + (result_interactions.params[alpha_baseline + suffix_country]) \\\n",
    "                    + (result_interactions.params[alpha_baseline + suffix_category]) \\\n",
    "                    + (result_interactions.params[alpha_baseline + suffix_country + suffix_category])\n",
    "            \n",
    "            total_alpha_error = (get_standard_error_sum([alpha_baseline, \n",
    "                                                         alpha_baseline + suffix_category,\n",
    "                                                         alpha_baseline + suffix_country, \n",
    "                                                         alpha_baseline + suffix_country + suffix_category]))\n",
    "            \n",
    "            total_beta = (result_interactions.params[beta_baseline]) \\\n",
    "                    + (result_interactions.params[beta_baseline + suffix_country]) \\\n",
    "                    + (result_interactions.params[beta_baseline + suffix_category]) \\\n",
    "                    + (result_interactions.params[beta_baseline + suffix_country + suffix_category])\n",
    "            \n",
    "            total_beta_error = (get_standard_error_sum([beta_baseline, \n",
    "                                                         beta_baseline + suffix_category,\n",
    "                                                         beta_baseline + suffix_country, \n",
    "                                                         beta_baseline + suffix_country + suffix_category]))\n",
    "            \n",
    "            total_gamma = (result_interactions.params[gamma_baseline]) \\\n",
    "                    + (result_interactions.params[gamma_baseline + suffix_country]) \\\n",
    "                    + (result_interactions.params[gamma_baseline + suffix_category]) \\\n",
    "                    + (result_interactions.params[gamma_baseline + suffix_country + suffix_category])\n",
    "            \n",
    "            total_gamma_error = (get_standard_error_sum([gamma_baseline, \n",
    "                                                         gamma_baseline + suffix_category,\n",
    "                                                         gamma_baseline + suffix_country, \n",
    "                                                         gamma_baseline + suffix_country + suffix_category]))\n",
    "            \n",
    "        entry['alpha'] = total_alpha\n",
    "        entry['alpha_ste'] = total_alpha_error\n",
    "        entry['beta'] = total_beta\n",
    "        entry['beta_ste'] = total_beta_error\n",
    "        entry['gamma'] = total_gamma\n",
    "        entry['gamma_ste'] = total_gamma_error\n",
    "        \n",
    "        list_results.append(entry)\n",
    "        \n",
    "df_results = pd.DataFrame(list_results)"
   ]
  },
  {
   "cell_type": "code",
   "execution_count": 12,
   "metadata": {
    "collapsed": true
   },
   "outputs": [],
   "source": [
    "countries_sorted = list(df_results.loc[df_results['category'] == 'Mode 1'].\\\n",
    "                        sort_values(by = 'alpha', ascending = False)['country'].values)\n",
    "cats_sorted = list(df_results.groupby('category')['alpha'].agg('mean').sort_values(ascending = False).index)\n"
   ]
  },
  {
   "cell_type": "code",
   "execution_count": 13,
   "metadata": {
    "collapsed": true
   },
   "outputs": [],
   "source": [
    "sorterIndex = dict(zip(countries_sorted, range(len(countries_sorted))))\n",
    "\n",
    "def sort_pd(key=None,reverse=False):\n",
    "    def sorter(series):\n",
    "        series_list = list(series)\n",
    "        return [series_list.index(i) \n",
    "           for i in sorted(series_list,key=key,reverse=reverse)]\n",
    "    return sorter\n",
    "\n",
    "sort_by_custom_dict = sort_pd(key=sorterIndex.get)"
   ]
  },
  {
   "cell_type": "code",
   "execution_count": 14,
   "metadata": {
    "collapsed": true
   },
   "outputs": [],
   "source": [
    "dict_annotate = {'Mode 1': 'Recipe, cooking, baking, grocery\\n store, supermarket',\n",
    "                 'Mode 2': 'Food delivery, take-out,\\n drive-in', \n",
    "                 'Mode 3': 'Restaurant, careteria, cafe,\\n diner, food festival', \n",
    "                 'Mode 4': 'Picnic, barbecue, \\nlunchbox'}"
   ]
  },
  {
   "cell_type": "code",
   "execution_count": 15,
   "metadata": {},
   "outputs": [
    {
     "data": {
      "image/png": "[encoded data removed]",
      "text/plain": [
       "<Figure size 432x432 with 4 Axes>"
      ]
     },
     "metadata": {},
     "output_type": "display_data"
    }
   ],
   "source": [
    "fig, axes = plt.subplots(2,2, figsize = (6,6), sharey = True)\n",
    "\n",
    "for cnt,c in enumerate(['Mode 1','Mode 2','Mode 4','Mode 3']):\n",
    "    sbplt = axes[math.floor(cnt/2), cnt%2]\n",
    "    x = df_results.loc[df_results['category'] == c].iloc[sort_by_custom_dict(df_results.loc[df_results['category'] == c]['country'])][['alpha','country','alpha_ste']]\n",
    "    \n",
    "    colors_bars = []\n",
    "    for i in range(6):\n",
    "        if x['alpha'].values[i]>0 and x['alpha'].values[i]-2*x['alpha_ste'].values[i]>0:\n",
    "            colors_bars.append('darkmagenta')\n",
    "        elif x['alpha'].values[i]<0 and x['alpha'].values[i]+2*x['alpha_ste'].values[i]<0:\n",
    "            colors_bars.append('darkgoldenrod')\n",
    "        else:\n",
    "            colors_bars.append('silver')\n",
    "            \n",
    "    #sbplt.bar(range(12),x['alpha'].apply(lambda x: np.exp(x)-1), yerr = 2*x['alpha_ste'].apply(lambda x: np.exp(x)-1), color = colors_bars)\n",
    "    \n",
    "    sbplt.bar(range(6),x['alpha'].apply(lambda x: np.exp(x)-1),\n",
    "            #here we convert errors back to linear scale\n",
    "            yerr = np.array([x['alpha'].apply(lambda x: np.exp(x)-1) - (x['alpha']-2*x['alpha_ste']).apply(lambda x: np.exp(x)-1),\n",
    "                            (x['alpha']+2*x['alpha_ste']).apply(lambda x: np.exp(x)-1) - x['alpha'].apply(lambda x: np.exp(x)-1)]), \n",
    "            color = colors_bars)\n",
    "    \n",
    "    sbplt.set_xticks(range(6))\n",
    "    \n",
    "    sbplt.set_xticklabels(x['country'], fontsize= 8)\n",
    "    sbplt.set_title(dict_annotate[c], size= 11, style='italic')\n",
    "    \n",
    "    #sbplt.set_yticks([-2,-1,0,1,2])\n",
    "    #sbplt.set_yticklabels([\"-200%\",\"-100%\",\"0\",\"+100%\",\"+200%\"])\n",
    "    sbplt.set_ylim([-2.5,6])\n",
    "    \n",
    "    sbplt.set_yscale('symlog', basey = 3)\n",
    "    sbplt.set_yticks([-2,-1,0,1,2,4])\n",
    "    sbplt.set_yticklabels([\"-200%\",\"-100%\",\"2019 baseline\",\"+100%\",\"+200%\",\"+400%\"]) \n",
    "\n",
    "#fig.suptitle(\"α\", position = (0.5, 1.05))\n",
    "\n",
    "size_l = 12\n",
    "fig.text(0.55, -0.14, 'Prepared by whom?', ha='center', fontsize= size_l)\n",
    "fig.text(0.32, -0.08, 'By persons within the\\nhousehold or social group', ha='center', fontsize= size_l)\n",
    "fig.text(0.77, -0.08, 'By a third party\\n', ha='center', fontsize= size_l)\n",
    "\n",
    "fig.text(-0.1, 0.5, 'Consumed where?', va='center', rotation='vertical', fontsize= size_l)\n",
    "fig.text(-0.04, 0.25, 'Outside of home', va='center', rotation='vertical', fontsize= size_l)\n",
    "fig.text(-0.04, 0.75, 'At home', va='center', rotation='vertical', fontsize= size_l)\n",
    "plt.tight_layout()\n",
    "\n",
    "plt.savefig(FIGURES_DIR+\"modes_second_wave.pdf\", bbox_inches='tight')"
   ]
  },
  {
   "cell_type": "code",
   "execution_count": 16,
   "metadata": {
    "collapsed": true
   },
   "outputs": [],
   "source": [
    "dict_max_mobility = {'AU': (\"2020-04-15\", 21.714285714285715),\n",
    "    'BR': (\"2020-03-27\",  20.857142857142858),\n",
    "    'CA': (\"2020-04-15\",  23.285714285714285),\n",
    "    'FR': (\"2020-03-29\",  30.428571428571427),\n",
    "    'DE': (\"2020-04-15\",  17.428571428571427),\n",
    "    'IN': (\"2020-04-13\",  29.142857142857142),\n",
    "    'IT': (\"2020-03-30\",  31.571428571428573),\n",
    "    'MX': (\"2020-04-14\",  21.142857142857142),\n",
    "    'ES': (\"2020-04-12\",  31.428571428571427),\n",
    "    'GB': (\"2020-04-15\",  25.714285714285715),\n",
    "    'US': (\"2020-04-09\",  19.428571428571427),\n",
    "    'DK': (\"2020-03-23\",  16.857142857142858)}\n",
    "\n",
    "df_mobility_max = pd.DataFrame(dict_max_mobility)\n",
    "df_mobility_max = df_mobility_max.transpose()\n",
    "df_mobility_max = df_mobility_max.loc[(df_mobility_max.index.isin(second_wave_countries)) & (df_mobility_max.index!='DE')]"
   ]
  },
  {
   "cell_type": "code",
   "execution_count": 17,
   "metadata": {
    "collapsed": true
   },
   "outputs": [],
   "source": [
    "for cnt,c in enumerate(['Mode 1','Mode 2','Mode 4','Mode 3']):\n",
    "    sbplt = axes[math.floor(cnt/2), cnt%2]\n",
    "    x = df_results.loc[df_results['category'] == c][['alpha','country','alpha_ste']]\n",
    "    x = x.set_index('country')\n",
    "    df_mobility_max = df_mobility_max.join(x).rename(columns={\"alpha\": c+\"_alpha\", \"alpha_ste\": c+\"_alpha_ste\"})"
   ]
  },
  {
   "cell_type": "code",
   "execution_count": 18,
   "metadata": {},
   "outputs": [
    {
     "data": {
      "image/png": "[encoded data removed]",
      "text/plain": [
       "<Figure size 684x648 with 4 Axes>"
      ]
     },
     "metadata": {},
     "output_type": "display_data"
    }
   ],
   "source": [
    "fig, axes = plt.subplots(2,2, figsize = (9.5,9), sharey = False, sharex = False)\n",
    "\n",
    "for cnt,c in enumerate(['Mode 1','Mode 2','Mode 4','Mode 3']):\n",
    "    sbplt = axes[math.floor(cnt/2), cnt%2]\n",
    "    \n",
    "    sbplt.set_xlabel('Severity of the lockdown: the mobility decrease at peak', fontsize = 11)\n",
    "    \n",
    "    \n",
    "    sbplt.errorbar(df_mobility_max[1],df_mobility_max[c+'_alpha'].apply(lambda x: np.exp(x)-1),\n",
    "           yerr = np.array([df_mobility_max[c+'_alpha'].apply(lambda x: np.exp(x)-1) - (df_mobility_max[c+'_alpha']-2*df_mobility_max[c+'_alpha_ste']).apply(lambda x: np.exp(x)-1),\n",
    "                            (df_mobility_max[c+'_alpha']+2*df_mobility_max[c+'_alpha_ste']).apply(lambda x: np.exp(x)-1) - df_mobility_max[c+'_alpha'].apply(lambda x: np.exp(x)-1)]),\n",
    "             linestyle ='none', capsize= 5, marker = 'x', markersize= 5, ecolor = 'lightgray')\n",
    "    \n",
    "    sbplt.hlines(0,15,35,color= 'lightgray',linewidth = 3)\n",
    "   \n",
    "    sbplt.set_yticks([-2,-1,0,1,2])\n",
    "    sbplt.set_yticklabels([\"-200%\",\"-100%\",\"0\",\"+100%\",\"+200%\"])\n",
    "    \n",
    "    sbplt.set_xticks([15,20,25,30,35])\n",
    "    sbplt.set_xticklabels([\"+15%\",\"+20%\",\"+25%\",\"+30%\",\"+35%\"])\n",
    "    \n",
    "    sbplt.set_ylabel('Increase in interest')\n",
    "    for i in range(6):\n",
    "\n",
    "        sbplt.annotate(df_mobility_max.index[i],\n",
    "                 #dict_max_mobility[df_mobility_max.index[i]][0],\n",
    "                 (df_mobility_max[1][i]+.5,df_mobility_max[c+'_alpha'].apply(lambda x: np.exp(x)-1)[i]), \n",
    "                 style = 'italic', fontsize = 10)\n",
    "    sbplt.set_ylim([-1,2.5])\n",
    "    \n",
    "    m, b = np.polyfit(list(df_mobility_max[1].values), list(df_mobility_max[c+'_alpha'].apply(lambda x: np.exp(x)-1).values), 1)\n",
    "    \n",
    "\n",
    "    sbplt.set_title(dict_annotate[c]+\\\n",
    "                '\\n'+'Pearson\\'s r = '+str(round(pearsonr(df_mobility_max[1],df_mobility_max[c+'_alpha'].apply(lambda x: np.exp(x)-1))[0],3))+\\\n",
    "     ', p='+str(round(pearsonr(df_mobility_max[1],df_mobility_max[c+'_alpha'].apply(lambda x: np.exp(x)-1))[1],3)), size= 11, style='italic')\n",
    "\n",
    "    if pearsonr(df_mobility_max[1],df_mobility_max[c+'_alpha'].apply(lambda x: np.exp(x)-1))[1] < 0.05:\n",
    "        sbplt.plot((np.array(list(range(15,37,2)))), m*(np.array(list(range(15,37,2)))) + b, alpha = 0.5, linewidth = 3)\n",
    "    else:\n",
    "        sbplt.plot((np.array(list(range(15,37,2)))), m*(np.array(list(range(15,37,2)))) + b, alpha = 0.5, color = 'lightgray', linewidth = 3)\n",
    "\n",
    "size_l = 12\n",
    "fig.text(0.55, -0.14, 'Prepared by whom?', ha='center', fontsize= size_l)\n",
    "fig.text(0.27, -0.08, 'By persons within the\\nhousehold or social group', ha='center', fontsize= size_l)\n",
    "fig.text(0.77, -0.08, 'By a third party\\n', ha='center', fontsize= size_l)\n",
    "\n",
    "fig.text(-0.1, 0.5, 'Consumed where?', va='center', rotation='vertical', fontsize= size_l)\n",
    "fig.text(-0.04, 0.25, 'Outside of home', va='center', rotation='vertical', fontsize= size_l)\n",
    "fig.text(-0.04, 0.75, 'At home', va='center', rotation='vertical', fontsize= size_l)\n",
    "plt.tight_layout()\n",
    "\n",
    "plt.savefig(FIGURES_DIR+\"modes_severity_second_wave.pdf\", bbox_inches='tight')"
   ]
  },
  {
   "cell_type": "code",
   "execution_count": null,
   "metadata": {
    "collapsed": true
   },
   "outputs": [],
   "source": []
  }
 ],
 "metadata": {
  "kernelspec": {
   "display_name": "Python 3",
   "language": "python",
   "name": "python3"
  },
  "language_info": {
   "codemirror_mode": {
    "name": "ipython",
    "version": 3
   },
   "file_extension": ".py",
   "mimetype": "text/x-python",
   "name": "python",
   "nbconvert_exporter": "python",
   "pygments_lexer": "ipython3",
   "version": "3.6.3"
  },
  "varInspector": {
   "cols": {
    "lenName": 16,
    "lenType": 16,
    "lenVar": 40
   },
   "kernels_config": {
    "python": {
     "delete_cmd_postfix": "",
     "delete_cmd_prefix": "del ",
     "library": "var_list.py",
     "varRefreshCmd": "print(var_dic_list())"
    },
    "r": {
     "delete_cmd_postfix": ") ",
     "delete_cmd_prefix": "rm(",
     "library": "var_list.r",
     "varRefreshCmd": "cat(var_dic_list()) "
    }
   },
   "types_to_exclude": [
    "module",
    "function",
    "builtin_function_or_method",
    "instance",
    "_Feature"
   ],
   "window_display": false
  }
 },
 "nbformat": 4,
 "nbformat_minor": 4
}
