{
 "cells": [
  {
   "cell_type": "code",
   "execution_count": 1,
   "metadata": {
    "collapsed": true
   },
   "outputs": [],
   "source": [
    "import pandas as pd\n",
    "import numpy as np\n",
    "import pandas as pd\n",
    "%matplotlib inline\n",
    "import numpy as np\n",
    "import matplotlib.pyplot as plt\n",
    "import math \n",
    "import seaborn as sns\n",
    "import matplotlib.colors as mcolors\n",
    "import statsmodels.api as sm\n",
    "import statsmodels.formula.api as smf\n",
    "from statsmodels.formula.api import ols\n",
    "from statsmodels.formula.api import mixedlm\n",
    "from sklearn.preprocessing import StandardScaler\n",
    "from sklearn.decomposition import PCA\n",
    "import os\n",
    "import matplotlib.pyplot as mpl\n",
    "import matplotlib\n",
    "from scipy.stats import spearmanr\n",
    "\n",
    "colors = list(mcolors.TABLEAU_COLORS.keys())*2\n",
    "\n",
    "\n",
    "parentDirectory = os.path.abspath(os.path.join(os.path.join(os.path.join(os.getcwd(), os.pardir), os.pardir),os.pardir))\n",
    "DATA_DIR = parentDirectory +'/data/'\n",
    "FIGURES_DIR = parentDirectory +'/figures/'\n",
    "\n",
    "full_names = {\n",
    "    'AU': 'Australia',\n",
    "    'BR': 'Brazil',\n",
    "    'CA': 'Canada',\n",
    "    'FR': 'France',\n",
    "    'DE': 'Germany',\n",
    "    'IN': 'India',\n",
    "    'IT': 'Italy',\n",
    "    'MX': 'Mexico',\n",
    "    'ES': 'Spain',\n",
    "    'GB': 'United Kingdom',\n",
    "    'US': 'United States',\n",
    "    'DK': 'Denmark',\n",
    "    'KE': 'Kenya', \n",
    "    'NG': 'Nigeria',\n",
    "    'JP': 'Japan',\n",
    "    'SE': 'Sweden',\n",
    "    'ID': 'Indonesia',\n",
    "    'EG': 'Egypt'\n",
    "}\n",
    "\n",
    "event_dicts = [{'country': 'AU',\n",
    "  'end_md_1': '2020-06-07',\n",
    "  'start_md_1': '2020-03-27',\n",
    "  'start_md_2': np.nan},\n",
    " {'country': 'BR',\n",
    "  'end_md_1': '2020-08-09',\n",
    "  'start_md_1': '2020-03-23',\n",
    "  'start_md_2': np.nan},\n",
    " {'country': 'CA',\n",
    "  'end_md_1': '2020-06-21',\n",
    "  'start_md_1': '2020-03-19',\n",
    "  'start_md_2': '2020-10-12'},\n",
    " {'country': 'DE',\n",
    "  'end_md_1': '2020-05-09',\n",
    "  'start_md_1': '2020-03-21',\n",
    "  'start_md_2': '2020-12-18'},\n",
    " {'country': 'DK',\n",
    "  'end_md_1': '2020-05-07',\n",
    "  'start_md_1': '2020-03-17',\n",
    "  'start_md_2': np.nan},\n",
    " {'country': 'EG',\n",
    "  'end_md_1': '2020-07-01',\n",
    "  'start_md_1': '2020-03-24',\n",
    "  'start_md_2': np.nan},\n",
    " {'country': 'ES',\n",
    "  'end_md_1': '2020-06-14',\n",
    "  'start_md_1': '2020-03-17',\n",
    "  'start_md_2': '2020-11-07'},\n",
    " {'country': 'FR',\n",
    "  'end_md_1': '2020-06-08',\n",
    "  'start_md_1': '2020-03-18',\n",
    "  'start_md_2': '2020-11-01'},\n",
    " {'country': 'GB',\n",
    "  'end_md_1': '2020-08-03',\n",
    "  'start_md_1': '2020-03-23',\n",
    "  'start_md_2': '2020-10-21'},\n",
    " {'country': 'ID',\n",
    "  'end_md_1': '2020-08-10',\n",
    "  'start_md_1': '2020-03-24',\n",
    "  'start_md_2': np.nan},\n",
    " {'country': 'IN',\n",
    "  'end_md_1': '2020-10-29',\n",
    "  'start_md_1': '2020-03-24',\n",
    "  'start_md_2': np.nan},\n",
    " {'country': 'IT',\n",
    "  'end_md_1': '2020-06-06',\n",
    "  'start_md_1': '2020-03-11',\n",
    "  'start_md_2': '2020-11-06'},\n",
    " {'country': 'JP',\n",
    "  'end_md_1': '2020-05-30',\n",
    "  'start_md_1': '2020-04-12',\n",
    "  'start_md_2': np.nan},\n",
    " {'country': 'KE',\n",
    "  'end_md_1': '2020-10-04',\n",
    "  'start_md_1': '2020-03-24',\n",
    "  'start_md_2': np.nan},\n",
    " {'country': 'MX',\n",
    "  'end_md_1': '2020-10-06',\n",
    "  'start_md_1': '2020-03-25',\n",
    "  'start_md_2': np.nan},\n",
    " {'country': 'NG',\n",
    "  'end_md_1': '2020-08-09',\n",
    "  'start_md_1': '2020-03-27',\n",
    "  'start_md_2': np.nan},\n",
    " {'country': 'SE',\n",
    "  'end_md_1': '2020-04-09',\n",
    "  'start_md_1': '2020-04-03',\n",
    "  'start_md_2': np.nan},\n",
    " {'country': 'US',\n",
    "  'end_md_1': '2020-06-11',\n",
    "  'start_md_1': '2020-03-21',\n",
    "  'start_md_2': '2020-11-26'}]\n",
    "\n",
    "df_events = pd.DataFrame(event_dicts)\n",
    "\n",
    "df_events['start_md_1'] = pd.to_datetime(df_events['start_md_1'])\n",
    "df_events['end_md_1'] = pd.to_datetime(df_events['end_md_1'])\n",
    "df_events['start_md_2'] = pd.to_datetime(df_events['start_md_2'])\n",
    "\n",
    "df_agg = pd.read_pickle(DATA_DIR+'df_agg_cats.pickle')"
   ]
  },
  {
   "cell_type": "code",
   "execution_count": 2,
   "metadata": {
    "collapsed": true
   },
   "outputs": [],
   "source": [
    "def make_stars(val):\n",
    "    if val<0.0001:\n",
    "        return '****'\n",
    "    elif val<0.001:\n",
    "        return '***'\n",
    "    elif val<0.01:\n",
    "        return '**'\n",
    "    elif val<0.05:\n",
    "        return '*'\n",
    "    else:\n",
    "        return ''\n",
    "\n",
    "def make_star_ste(value,ste):\n",
    "    if value>0 and value-2*ste>0:\n",
    "        return '*'\n",
    "    elif value<0 and value+2*ste<0:\n",
    "        return '*'\n",
    "    else:\n",
    "        return ''"
   ]
  },
  {
   "cell_type": "code",
   "execution_count": 3,
   "metadata": {
    "collapsed": true
   },
   "outputs": [],
   "source": [
    "weeks_2019 = list(df_agg.iloc[0]['volume_weekly_total'].index)[:52]\n",
    "weeks_2020 = list(df_agg.iloc[0]['volume_weekly_total'].index)[52:]"
   ]
  },
  {
   "cell_type": "code",
   "execution_count": 4,
   "metadata": {
    "collapsed": true
   },
   "outputs": [],
   "source": [
    "l = []\n",
    "for cnt, row in df_agg.iterrows():\n",
    "    start_md = df_events.loc[df_events['country'] == row['country']].iloc[0]['start_md_1']\n",
    "    end_md = df_events.loc[df_events['country'] == row['country']].iloc[0]['end_md_1']\n",
    "    start_md2 = df_events.loc[df_events['country'] == row['country']].iloc[0]['start_md_2']\n",
    "    \n",
    "    for week in zip(row['volume_weekly_total'].index,row['volume_weekly_total'].values,row['volume_percent_weekly_total'].values):\n",
    "        \n",
    "        entry = {}\n",
    "\n",
    "        entry['country'] = row['country']\n",
    "        entry['category'] = row['category']\n",
    "        \n",
    "\n",
    "        if week[0] in weeks_2020:\n",
    "            date = pd.to_datetime(week[0])\n",
    "\n",
    "            if type(start_md2)!=pd._libs.tslibs.nattype.NaTType and date > start_md2:\n",
    "                continue\n",
    "\n",
    "            entry['k'] = math.floor(((date - start_md).days +7) / 7)\n",
    "            entry['volume_total'] = week[1]\n",
    "            entry['volume_percent'] = week[2]\n",
    "            entry['year'] = '2020'\n",
    "            l.append(entry)\n",
    "\n",
    "        elif week[0] in weeks_2019:\n",
    "            date = pd.to_datetime(weeks_2020[weeks_2019.index(week[0])])\n",
    "            \n",
    "            if type(start_md2)!=pd._libs.tslibs.nattype.NaTType and date > start_md2:\n",
    "                continue\n",
    "\n",
    "            entry['k'] = math.floor(((date - start_md).days +7) / 7)\n",
    "            entry['volume_total'] = week[1]\n",
    "            entry['volume_percent'] = week[2]\n",
    "            entry['year'] = '2019'\n",
    "            l.append(entry)\n",
    "\n",
    "df = pd.DataFrame(l)   "
   ]
  },
  {
   "cell_type": "code",
   "execution_count": 5,
   "metadata": {
    "collapsed": true
   },
   "outputs": [],
   "source": [
    "df = df.loc[(df['k'] >= -30) & (df['k'] <= 30)]\n",
    "df = df.loc[(df['country'].isin(list(full_names.keys())))]\n",
    "df['intervention_flag'] = df['k'].apply(lambda x: 1 if x >= 0 else 0)"
   ]
  },
  {
   "cell_type": "code",
   "execution_count": 6,
   "metadata": {
    "collapsed": true
   },
   "outputs": [],
   "source": [
    "cats = list(df['category'].unique())\n",
    "k = 30"
   ]
  },
  {
   "cell_type": "code",
   "execution_count": 7,
   "metadata": {
    "collapsed": true
   },
   "outputs": [],
   "source": [
    "df_temp = df.loc[(df['k'] >= -k) & (df['k'] <= k)].copy()\n",
    "df_temp['volume_total'] = df_temp['volume_total'].apply(lambda x: np.log(x + 0.001))"
   ]
  },
  {
   "cell_type": "code",
   "execution_count": 8,
   "metadata": {},
   "outputs": [
    {
     "name": "stdout",
     "output_type": "stream",
     "text": [
      "beef dish\n",
      "bread and flatbread\n",
      "cheese\n",
      "chicken dish\n",
      "cocktail\n",
      "dessert\n",
      "egg dish\n",
      "fish dish\n",
      "fruit\n",
      "herb\n",
      "lamb dish\n",
      "pasta, pizza and noodle dish\n",
      "pastry and bakery product\n",
      "pie\n",
      "pork dish\n",
      "potato dish\n",
      "rice dish\n",
      "salad\n",
      "sandwich\n",
      "sauce\n",
      "sausage\n",
      "snack\n",
      "soft drink\n",
      "soup\n",
      "spice\n",
      "stew\n",
      "vegetable and legume\n",
      "wine, beer and liquor\n"
     ]
    }
   ],
   "source": [
    "entries_list = []\n",
    "\n",
    "for name, group in df_temp.groupby(['category']):\n",
    "    print(name)\n",
    "    \n",
    "    entry = {}\n",
    "    mod = smf.ols('volume_total ~ intervention_flag*year  + C(country)', data = group)\n",
    "    res = mod.fit(cov_type='hc0')\n",
    "    entry['model_degree'] = 0\n",
    "    entry['category'] = name\n",
    "    entry['alpha'] = res.params['intervention_flag:year[T.2020]']\n",
    "    entry['ste'] = res.bse['intervention_flag:year[T.2020]']\n",
    "    entry['pval'] = res.pvalues['intervention_flag:year[T.2020]']\n",
    "    entry['r2'] = res.rsquared\n",
    "    entries_list.append(entry)\n",
    "    \n",
    "    entry = {}\n",
    "    mod = smf.ols('volume_total ~ intervention_flag*k*year  + C(country)', data = group)\n",
    "    res = mod.fit(cov_type='hc0')\n",
    "    entry['model_degree'] = 1\n",
    "    entry['category'] = name\n",
    "    entry['alpha'] = res.params['intervention_flag:year[T.2020]']\n",
    "    entry['ste'] = res.bse['intervention_flag:year[T.2020]']\n",
    "    entry['pval'] = res.pvalues['intervention_flag:year[T.2020]']\n",
    "    entry['r2'] = res.rsquared\n",
    "    entries_list.append(entry)\n",
    "    \n",
    "    entry = {}\n",
    "    mod = smf.ols('volume_total ~ intervention_flag*k*year + intervention_flag*np.power(k,2)*year + C(country)', data = group)\n",
    "    res = mod.fit(cov_type='hc0')\n",
    "    entry['model_degree'] = 2\n",
    "    entry['category'] = name\n",
    "    entry['alpha'] = res.params['intervention_flag:year[T.2020]']\n",
    "    entry['ste'] = res.bse['intervention_flag:year[T.2020]']\n",
    "    entry['pval'] = res.pvalues['intervention_flag:year[T.2020]']\n",
    "    entry['r2'] = res.rsquared\n",
    "    entries_list.append(entry)\n",
    "    \n",
    "    "
   ]
  },
  {
   "cell_type": "code",
   "execution_count": 9,
   "metadata": {
    "collapsed": true
   },
   "outputs": [],
   "source": [
    "df_res = pd.DataFrame(entries_list)"
   ]
  },
  {
   "cell_type": "code",
   "execution_count": 10,
   "metadata": {},
   "outputs": [
    {
     "name": "stdout",
     "output_type": "stream",
     "text": [
      "1 &\n",
      "pastry and bakery product &\n",
      "pastry and bakery product &\n",
      "pastry and bakery product\n",
      "\\\\\n",
      "2 &\n",
      "pie &\n",
      "pie &\n",
      "bread and flatbread\n",
      "\\\\\n",
      "3 &\n",
      "dessert &\n",
      "bread and flatbread &\n",
      "potato dish\n",
      "\\\\\n",
      "4 &\n",
      "sauce &\n",
      "potato dish &\n",
      "pie\n",
      "\\\\\n",
      "5 &\n",
      "potato dish &\n",
      "dessert &\n",
      "dessert\n",
      "\\\\\n",
      "6 &\n",
      "bread and flatbread &\n",
      "sauce &\n",
      "cheese\n",
      "\\\\\n",
      "7 &\n",
      "chicken dish &\n",
      "chicken dish &\n",
      "sauce\n",
      "\\\\\n",
      "8 &\n",
      "stew &\n",
      "cheese &\n",
      "chicken dish\n",
      "\\\\\n",
      "9 &\n",
      "egg dish &\n",
      "vegetable and legume &\n",
      "pork dish\n",
      "\\\\\n",
      "10 &\n",
      "vegetable and legume &\n",
      "egg dish &\n",
      "sausage\n",
      "\\\\\n",
      "11 &\n",
      "cheese &\n",
      "pork dish &\n",
      "stew\n",
      "\\\\\n",
      "12 &\n",
      "fruit &\n",
      "pasta, pizza and noodle dish &\n",
      "pasta, pizza and noodle dish\n",
      "\\\\\n",
      "13 &\n",
      "herb &\n",
      "fruit &\n",
      "egg dish\n",
      "\\\\\n",
      "14 &\n",
      "spice &\n",
      "stew &\n",
      "vegetable and legume\n",
      "\\\\\n",
      "15 &\n",
      "sausage &\n",
      "rice dish &\n",
      "fruit\n",
      "\\\\\n",
      "16 &\n",
      "rice dish &\n",
      "spice &\n",
      "rice dish\n",
      "\\\\\n",
      "17 &\n",
      "pasta, pizza and noodle dish &\n",
      "herb &\n",
      "fish dish\n",
      "\\\\\n",
      "18 &\n",
      "fish dish &\n",
      "sausage &\n",
      "beef dish\n",
      "\\\\\n",
      "19 &\n",
      "pork dish &\n",
      "fish dish &\n",
      "spice\n",
      "\\\\\n",
      "20 &\n",
      "salad &\n",
      "snack &\n",
      "herb\n",
      "\\\\\n",
      "21 &\n",
      "snack &\n",
      "beef dish &\n",
      "soup\n",
      "\\\\\n",
      "22 &\n",
      "beef dish &\n",
      "salad &\n",
      "snack\n",
      "\\\\\n",
      "23 &\n",
      "sandwich &\n",
      "sandwich &\n",
      "salad\n",
      "\\\\\n",
      "24 &\n",
      "soft drink &\n",
      "soup &\n",
      "lamb dish\n",
      "\\\\\n",
      "25 &\n",
      "soup &\n",
      "soft drink &\n",
      "soft drink\n",
      "\\\\\n",
      "26 &\n",
      "lamb dish &\n",
      "wine, beer and liquor &\n",
      "wine, beer and liquor\n",
      "\\\\\n",
      "27 &\n",
      "wine, beer and liquor &\n",
      "cocktail &\n",
      "cocktail\n",
      "\\\\\n",
      "28 &\n",
      "cocktail &\n",
      "lamb dish &\n",
      "sandwich\n",
      "\\\\\n"
     ]
    }
   ],
   "source": [
    "for j in range(28):\n",
    "    print(str(j+1)+' &')\n",
    "    for i in range(3):\n",
    "        if i ==2:\n",
    "            print(df_res.loc[df_res['model_degree']==i].sort_values(by = 'alpha', ascending = False)['category'].values[j] )\n",
    "        else:\n",
    "            print(df_res.loc[df_res['model_degree']==i].sort_values(by = 'alpha', ascending = False)['category'].values[j] + ' &')\n",
    "    \n",
    "    print('\\\\\\\\')"
   ]
  },
  {
   "cell_type": "code",
   "execution_count": 11,
   "metadata": {},
   "outputs": [
    {
     "data": {
      "text/plain": [
       "SpearmanrResult(correlation=0.8872468527640941, pvalue=3.173779725914818e-10)"
      ]
     },
     "execution_count": 11,
     "metadata": {},
     "output_type": "execute_result"
    }
   ],
   "source": [
    "spearmanr(df_res.loc[df_res['model_degree']==0]['alpha'].values , \n",
    "          df_res.loc[df_res['model_degree']==2]['alpha'].values)"
   ]
  },
  {
   "cell_type": "code",
   "execution_count": 12,
   "metadata": {},
   "outputs": [
    {
     "data": {
      "text/plain": [
       "SpearmanrResult(correlation=0.9414340448823207, pvalue=8.699648067086242e-14)"
      ]
     },
     "execution_count": 12,
     "metadata": {},
     "output_type": "execute_result"
    }
   ],
   "source": [
    "spearmanr(df_res.loc[df_res['model_degree']==1]['alpha'].values , \n",
    "          df_res.loc[df_res['model_degree']==2]['alpha'].values)"
   ]
  },
  {
   "cell_type": "code",
   "execution_count": 13,
   "metadata": {},
   "outputs": [
    {
     "data": {
      "text/plain": [
       "SpearmanrResult(correlation=0.9452654625068418, pvalue=3.68993332701922e-14)"
      ]
     },
     "execution_count": 13,
     "metadata": {},
     "output_type": "execute_result"
    }
   ],
   "source": [
    "spearmanr(df_res.loc[df_res['model_degree']==0]['alpha'].values , \n",
    "          df_res.loc[df_res['model_degree']==1]['alpha'].values)"
   ]
  },
  {
   "cell_type": "code",
   "execution_count": null,
   "metadata": {
    "collapsed": true
   },
   "outputs": [],
   "source": []
  }
 ],
 "metadata": {
  "kernelspec": {
   "display_name": "Python 3",
   "language": "python",
   "name": "python3"
  },
  "language_info": {
   "codemirror_mode": {
    "name": "ipython",
    "version": 3
   },
   "file_extension": ".py",
   "mimetype": "text/x-python",
   "name": "python",
   "nbconvert_exporter": "python",
   "pygments_lexer": "ipython3",
   "version": "3.6.3"
  },
  "varInspector": {
   "cols": {
    "lenName": 16,
    "lenType": 16,
    "lenVar": 40
   },
   "kernels_config": {
    "python": {
     "delete_cmd_postfix": "",
     "delete_cmd_prefix": "del ",
     "library": "var_list.py",
     "varRefreshCmd": "print(var_dic_list())"
    },
    "r": {
     "delete_cmd_postfix": ") ",
     "delete_cmd_prefix": "rm(",
     "library": "var_list.r",
     "varRefreshCmd": "cat(var_dic_list()) "
    }
   },
   "types_to_exclude": [
    "module",
    "function",
    "builtin_function_or_method",
    "instance",
    "_Feature"
   ],
   "window_display": false
  }
 },
 "nbformat": 4,
 "nbformat_minor": 4
}
