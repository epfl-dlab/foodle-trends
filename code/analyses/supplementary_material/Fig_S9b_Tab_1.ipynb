{
 "cells": [
  {
   "cell_type": "code",
   "execution_count": 1,
   "metadata": {
    "collapsed": true
   },
   "outputs": [],
   "source": [
    "import pandas as pd\n",
    "import numpy as np\n",
    "\n",
    "import pandas as pd\n",
    "%matplotlib inline\n",
    "import numpy as np\n",
    "import matplotlib.pyplot as plt\n",
    "import math \n",
    "import seaborn as sns\n",
    "import matplotlib.colors as mcolors\n",
    "import statsmodels.api as sm\n",
    "import statsmodels.formula.api as smf\n",
    "from statsmodels.formula.api import ols\n",
    "from statsmodels.formula.api import mixedlm\n",
    "colors = list(mcolors.TABLEAU_COLORS.keys())*2\n",
    "import os\n",
    "\n",
    "\n",
    "full_names = {\n",
    "    'AU': 'Australia',\n",
    "    'BR': 'Brazil',\n",
    "    'CA': 'Canada',\n",
    "    'FR': 'France',\n",
    "    'DE': 'Germany',\n",
    "    'IN': 'India',\n",
    "    'IT': 'Italy',\n",
    "    'MX': 'Mexico',\n",
    "    'ES': 'Spain',\n",
    "    'GB': 'United Kingdom',\n",
    "    'US': 'United States',\n",
    "    'DK': 'Denmark',\n",
    "    'KE': 'Kenya', \n",
    "    'NG': 'Nigeria',\n",
    "    'JP': 'Japan',\n",
    "    'SE': 'Sweden',\n",
    "    'ID': 'Indonesia',\n",
    "    'EG': 'Egypt'\n",
    "}\n",
    "\n",
    "event_dicts = [{'country': 'AU',\n",
    "  'end_md_1': '2020-06-07',\n",
    "  'start_md_1': '2020-03-27',\n",
    "  'start_md_2': np.nan},\n",
    " {'country': 'BR',\n",
    "  'end_md_1': '2020-08-09',\n",
    "  'start_md_1': '2020-03-23',\n",
    "  'start_md_2': np.nan},\n",
    " {'country': 'CA',\n",
    "  'end_md_1': '2020-06-21',\n",
    "  'start_md_1': '2020-03-19',\n",
    "  'start_md_2': '2020-10-12'},\n",
    " {'country': 'DE',\n",
    "  'end_md_1': '2020-05-09',\n",
    "  'start_md_1': '2020-03-21',\n",
    "  'start_md_2': '2020-12-18'},\n",
    " {'country': 'DK',\n",
    "  'end_md_1': '2020-05-07',\n",
    "  'start_md_1': '2020-03-17',\n",
    "  'start_md_2': np.nan},\n",
    " {'country': 'EG',\n",
    "  'end_md_1': '2020-07-01',\n",
    "  'start_md_1': '2020-03-24',\n",
    "  'start_md_2': np.nan},\n",
    " {'country': 'ES',\n",
    "  'end_md_1': '2020-06-14',\n",
    "  'start_md_1': '2020-03-17',\n",
    "  'start_md_2': '2020-11-07'},\n",
    " {'country': 'FR',\n",
    "  'end_md_1': '2020-06-08',\n",
    "  'start_md_1': '2020-03-18',\n",
    "  'start_md_2': '2020-11-01'},\n",
    " {'country': 'GB',\n",
    "  'end_md_1': '2020-08-03',\n",
    "  'start_md_1': '2020-03-23',\n",
    "  'start_md_2': '2020-10-21'},\n",
    " {'country': 'ID',\n",
    "  'end_md_1': '2020-08-10',\n",
    "  'start_md_1': '2020-03-24',\n",
    "  'start_md_2': np.nan},\n",
    " {'country': 'IN',\n",
    "  'end_md_1': '2020-10-29',\n",
    "  'start_md_1': '2020-03-24',\n",
    "  'start_md_2': np.nan},\n",
    " {'country': 'IT',\n",
    "  'end_md_1': '2020-06-06',\n",
    "  'start_md_1': '2020-03-11',\n",
    "  'start_md_2': '2020-11-06'},\n",
    " {'country': 'JP',\n",
    "  'end_md_1': '2020-05-30',\n",
    "  'start_md_1': '2020-04-12',\n",
    "  'start_md_2': np.nan},\n",
    " {'country': 'KE',\n",
    "  'end_md_1': '2020-10-04',\n",
    "  'start_md_1': '2020-03-24',\n",
    "  'start_md_2': np.nan},\n",
    " {'country': 'MX',\n",
    "  'end_md_1': '2020-10-06',\n",
    "  'start_md_1': '2020-03-25',\n",
    "  'start_md_2': np.nan},\n",
    " {'country': 'NG',\n",
    "  'end_md_1': '2020-08-09',\n",
    "  'start_md_1': '2020-03-27',\n",
    "  'start_md_2': np.nan},\n",
    " {'country': 'SE',\n",
    "  'end_md_1': '2020-04-09',\n",
    "  'start_md_1': '2020-04-03',\n",
    "  'start_md_2': np.nan},\n",
    " {'country': 'US',\n",
    "  'end_md_1': '2020-06-11',\n",
    "  'start_md_1': '2020-03-21',\n",
    "  'start_md_2': '2020-11-26'}]\n",
    "\n",
    "\n",
    "parentDirectory = os.path.abspath(os.path.join(os.path.join(os.path.join(os.getcwd(), os.pardir), os.pardir),os.pardir))\n",
    "DATA_DIR = parentDirectory +'/data/'\n",
    "FIGURES_DIR = parentDirectory +'/figures/'"
   ]
  },
  {
   "cell_type": "code",
   "execution_count": 2,
   "metadata": {
    "collapsed": true
   },
   "outputs": [],
   "source": [
    "df_events = pd.DataFrame(event_dicts)"
   ]
  },
  {
   "cell_type": "code",
   "execution_count": 3,
   "metadata": {
    "collapsed": true
   },
   "outputs": [],
   "source": [
    "df_events['start_md_1'] = pd.to_datetime(df_events['start_md_1'])\n",
    "df_events['end_md_1'] = pd.to_datetime(df_events['end_md_1'])\n",
    "df_events['start_md_2'] = pd.to_datetime(df_events['start_md_2'])"
   ]
  },
  {
   "cell_type": "code",
   "execution_count": 4,
   "metadata": {
    "collapsed": true
   },
   "outputs": [],
   "source": [
    "df_agg = pd.read_pickle(DATA_DIR+'df_agg_cats.pickle')"
   ]
  },
  {
   "cell_type": "code",
   "execution_count": 5,
   "metadata": {},
   "outputs": [
    {
     "data": {
      "text/html": [
       "<div>\n",
       "<style scoped>\n",
       "    .dataframe tbody tr th:only-of-type {\n",
       "        vertical-align: middle;\n",
       "    }\n",
       "\n",
       "    .dataframe tbody tr th {\n",
       "        vertical-align: top;\n",
       "    }\n",
       "\n",
       "    .dataframe thead th {\n",
       "        text-align: right;\n",
       "    }\n",
       "</style>\n",
       "<table border=\"1\" class=\"dataframe\">\n",
       "  <thead>\n",
       "    <tr style=\"text-align: right;\">\n",
       "      <th></th>\n",
       "      <th>country</th>\n",
       "      <th>category</th>\n",
       "      <th>volume_weekly_total</th>\n",
       "      <th>volume_weekly_total_l</th>\n",
       "      <th>volume_weekly_total_h</th>\n",
       "      <th>volume_percent_weekly_total</th>\n",
       "    </tr>\n",
       "  </thead>\n",
       "  <tbody>\n",
       "    <tr>\n",
       "      <th>0</th>\n",
       "      <td>FR</td>\n",
       "      <td>dessert</td>\n",
       "      <td>2019-01-06    2039.955977\n",
       "2019-01-13    2326.4...</td>\n",
       "      <td>2019-01-06    1835.859784\n",
       "2019-01-13    2099.2...</td>\n",
       "      <td>2019-01-06    2268.661639\n",
       "2019-01-13    2580.8...</td>\n",
       "      <td>2019-01-06    0.181580\n",
       "2019-01-13    0.198787\n",
       "...</td>\n",
       "    </tr>\n",
       "    <tr>\n",
       "      <th>1</th>\n",
       "      <td>FR</td>\n",
       "      <td>soft drink</td>\n",
       "      <td>2019-01-06    121.671207\n",
       "2019-01-13    129.083...</td>\n",
       "      <td>2019-01-06    114.391114\n",
       "2019-01-13    121.331...</td>\n",
       "      <td>2019-01-06    129.498450\n",
       "2019-01-13    137.439...</td>\n",
       "      <td>2019-01-06    0.010830\n",
       "2019-01-13    0.011030\n",
       "...</td>\n",
       "    </tr>\n",
       "    <tr>\n",
       "      <th>2</th>\n",
       "      <td>FR</td>\n",
       "      <td>rice dish</td>\n",
       "      <td>2019-01-06    302.488958\n",
       "2019-01-13    311.905...</td>\n",
       "      <td>2019-01-06    278.087672\n",
       "2019-01-13    287.005...</td>\n",
       "      <td>2019-01-06    329.392011\n",
       "2019-01-13    339.326...</td>\n",
       "      <td>2019-01-06    0.026925\n",
       "2019-01-13    0.026651\n",
       "...</td>\n",
       "    </tr>\n",
       "    <tr>\n",
       "      <th>3</th>\n",
       "      <td>FR</td>\n",
       "      <td>soup</td>\n",
       "      <td>2019-01-06    401.235196\n",
       "2019-01-13    366.711...</td>\n",
       "      <td>2019-01-06    369.185323\n",
       "2019-01-13    337.439...</td>\n",
       "      <td>2019-01-06    436.562920\n",
       "2019-01-13    399.011...</td>\n",
       "      <td>2019-01-06    0.035715\n",
       "2019-01-13    0.031334\n",
       "...</td>\n",
       "    </tr>\n",
       "    <tr>\n",
       "      <th>4</th>\n",
       "      <td>FR</td>\n",
       "      <td>spice</td>\n",
       "      <td>2019-01-06    388.295133\n",
       "2019-01-13    396.663...</td>\n",
       "      <td>2019-01-06    355.745896\n",
       "2019-01-13    363.625...</td>\n",
       "      <td>2019-01-06    424.161427\n",
       "2019-01-13    433.033...</td>\n",
       "      <td>2019-01-06    0.034563\n",
       "2019-01-13    0.033893\n",
       "...</td>\n",
       "    </tr>\n",
       "    <tr>\n",
       "      <th>...</th>\n",
       "      <td>...</td>\n",
       "      <td>...</td>\n",
       "      <td>...</td>\n",
       "      <td>...</td>\n",
       "      <td>...</td>\n",
       "      <td>...</td>\n",
       "    </tr>\n",
       "    <tr>\n",
       "      <th>499</th>\n",
       "      <td>EG</td>\n",
       "      <td>cocktail</td>\n",
       "      <td>2019-01-06    10.667190\n",
       "2019-01-13     9.11911...</td>\n",
       "      <td>2019-01-06    10.235867\n",
       "2019-01-13     8.74368...</td>\n",
       "      <td>2019-01-06    11.296213\n",
       "2019-01-13     9.72031...</td>\n",
       "      <td>2019-01-06    0.005317\n",
       "2019-01-13    0.004847\n",
       "...</td>\n",
       "    </tr>\n",
       "    <tr>\n",
       "      <th>500</th>\n",
       "      <td>EG</td>\n",
       "      <td>salad</td>\n",
       "      <td>2019-01-06    30.043243\n",
       "2019-01-13    29.89966...</td>\n",
       "      <td>2019-01-06    28.307436\n",
       "2019-01-13    28.16831...</td>\n",
       "      <td>2019-01-06    32.025813\n",
       "2019-01-13    31.78758...</td>\n",
       "      <td>2019-01-06    0.014974\n",
       "2019-01-13    0.015892\n",
       "...</td>\n",
       "    </tr>\n",
       "    <tr>\n",
       "      <th>501</th>\n",
       "      <td>EG</td>\n",
       "      <td>sandwich</td>\n",
       "      <td>2019-01-06    13.229550\n",
       "2019-01-13     8.20939...</td>\n",
       "      <td>2019-01-06    12.664763\n",
       "2019-01-13     7.80812...</td>\n",
       "      <td>2019-01-06    13.858189\n",
       "2019-01-13     8.67345...</td>\n",
       "      <td>2019-01-06    0.006594\n",
       "2019-01-13    0.004363\n",
       "...</td>\n",
       "    </tr>\n",
       "    <tr>\n",
       "      <th>502</th>\n",
       "      <td>EG</td>\n",
       "      <td>sausage</td>\n",
       "      <td>2019-01-06    10.115526\n",
       "2019-01-13    11.84954...</td>\n",
       "      <td>2019-01-06     9.609782\n",
       "2019-01-13    11.31384...</td>\n",
       "      <td>2019-01-06    10.682971\n",
       "2019-01-13    12.43453...</td>\n",
       "      <td>2019-01-06    0.005042\n",
       "2019-01-13    0.006298\n",
       "...</td>\n",
       "    </tr>\n",
       "    <tr>\n",
       "      <th>503</th>\n",
       "      <td>EG</td>\n",
       "      <td>pastry and bakery product</td>\n",
       "      <td>2019-01-06    24.222085\n",
       "2019-01-13    21.13999...</td>\n",
       "      <td>2019-01-06    22.245132\n",
       "2019-01-13    19.27846...</td>\n",
       "      <td>2019-01-06    26.530573\n",
       "2019-01-13    23.31471...</td>\n",
       "      <td>2019-01-06    0.012072\n",
       "2019-01-13    0.011236\n",
       "...</td>\n",
       "    </tr>\n",
       "  </tbody>\n",
       "</table>\n",
       "<p>504 rows × 6 columns</p>\n",
       "</div>"
      ],
      "text/plain": [
       "    country                   category  \\\n",
       "0        FR                    dessert   \n",
       "1        FR                 soft drink   \n",
       "2        FR                  rice dish   \n",
       "3        FR                       soup   \n",
       "4        FR                      spice   \n",
       "..      ...                        ...   \n",
       "499      EG                   cocktail   \n",
       "500      EG                      salad   \n",
       "501      EG                   sandwich   \n",
       "502      EG                    sausage   \n",
       "503      EG  pastry and bakery product   \n",
       "\n",
       "                                   volume_weekly_total  \\\n",
       "0    2019-01-06    2039.955977\n",
       "2019-01-13    2326.4...   \n",
       "1    2019-01-06    121.671207\n",
       "2019-01-13    129.083...   \n",
       "2    2019-01-06    302.488958\n",
       "2019-01-13    311.905...   \n",
       "3    2019-01-06    401.235196\n",
       "2019-01-13    366.711...   \n",
       "4    2019-01-06    388.295133\n",
       "2019-01-13    396.663...   \n",
       "..                                                 ...   \n",
       "499  2019-01-06    10.667190\n",
       "2019-01-13     9.11911...   \n",
       "500  2019-01-06    30.043243\n",
       "2019-01-13    29.89966...   \n",
       "501  2019-01-06    13.229550\n",
       "2019-01-13     8.20939...   \n",
       "502  2019-01-06    10.115526\n",
       "2019-01-13    11.84954...   \n",
       "503  2019-01-06    24.222085\n",
       "2019-01-13    21.13999...   \n",
       "\n",
       "                                 volume_weekly_total_l  \\\n",
       "0    2019-01-06    1835.859784\n",
       "2019-01-13    2099.2...   \n",
       "1    2019-01-06    114.391114\n",
       "2019-01-13    121.331...   \n",
       "2    2019-01-06    278.087672\n",
       "2019-01-13    287.005...   \n",
       "3    2019-01-06    369.185323\n",
       "2019-01-13    337.439...   \n",
       "4    2019-01-06    355.745896\n",
       "2019-01-13    363.625...   \n",
       "..                                                 ...   \n",
       "499  2019-01-06    10.235867\n",
       "2019-01-13     8.74368...   \n",
       "500  2019-01-06    28.307436\n",
       "2019-01-13    28.16831...   \n",
       "501  2019-01-06    12.664763\n",
       "2019-01-13     7.80812...   \n",
       "502  2019-01-06     9.609782\n",
       "2019-01-13    11.31384...   \n",
       "503  2019-01-06    22.245132\n",
       "2019-01-13    19.27846...   \n",
       "\n",
       "                                 volume_weekly_total_h  \\\n",
       "0    2019-01-06    2268.661639\n",
       "2019-01-13    2580.8...   \n",
       "1    2019-01-06    129.498450\n",
       "2019-01-13    137.439...   \n",
       "2    2019-01-06    329.392011\n",
       "2019-01-13    339.326...   \n",
       "3    2019-01-06    436.562920\n",
       "2019-01-13    399.011...   \n",
       "4    2019-01-06    424.161427\n",
       "2019-01-13    433.033...   \n",
       "..                                                 ...   \n",
       "499  2019-01-06    11.296213\n",
       "2019-01-13     9.72031...   \n",
       "500  2019-01-06    32.025813\n",
       "2019-01-13    31.78758...   \n",
       "501  2019-01-06    13.858189\n",
       "2019-01-13     8.67345...   \n",
       "502  2019-01-06    10.682971\n",
       "2019-01-13    12.43453...   \n",
       "503  2019-01-06    26.530573\n",
       "2019-01-13    23.31471...   \n",
       "\n",
       "                           volume_percent_weekly_total  \n",
       "0    2019-01-06    0.181580\n",
       "2019-01-13    0.198787\n",
       "...  \n",
       "1    2019-01-06    0.010830\n",
       "2019-01-13    0.011030\n",
       "...  \n",
       "2    2019-01-06    0.026925\n",
       "2019-01-13    0.026651\n",
       "...  \n",
       "3    2019-01-06    0.035715\n",
       "2019-01-13    0.031334\n",
       "...  \n",
       "4    2019-01-06    0.034563\n",
       "2019-01-13    0.033893\n",
       "...  \n",
       "..                                                 ...  \n",
       "499  2019-01-06    0.005317\n",
       "2019-01-13    0.004847\n",
       "...  \n",
       "500  2019-01-06    0.014974\n",
       "2019-01-13    0.015892\n",
       "...  \n",
       "501  2019-01-06    0.006594\n",
       "2019-01-13    0.004363\n",
       "...  \n",
       "502  2019-01-06    0.005042\n",
       "2019-01-13    0.006298\n",
       "...  \n",
       "503  2019-01-06    0.012072\n",
       "2019-01-13    0.011236\n",
       "...  \n",
       "\n",
       "[504 rows x 6 columns]"
      ]
     },
     "execution_count": 5,
     "metadata": {},
     "output_type": "execute_result"
    }
   ],
   "source": [
    "df_agg"
   ]
  },
  {
   "cell_type": "code",
   "execution_count": 6,
   "metadata": {
    "collapsed": true
   },
   "outputs": [],
   "source": [
    "weeks_2019 = list(df_agg.iloc[0]['volume_percent_weekly_total'].index)[:52]\n",
    "weeks_2020 = list(df_agg.iloc[0]['volume_percent_weekly_total'].index)[52:]"
   ]
  },
  {
   "cell_type": "code",
   "execution_count": 7,
   "metadata": {
    "collapsed": true
   },
   "outputs": [],
   "source": [
    "l = []\n",
    "for cnt, row in df_agg.iterrows():\n",
    "    start_md = df_events.loc[df_events['country'] == row['country']].iloc[0]['start_md_1']\n",
    "    end_md = df_events.loc[df_events['country'] == row['country']].iloc[0]['end_md_1']\n",
    "    start_md2 = df_events.loc[df_events['country'] == row['country']].iloc[0]['start_md_2']\n",
    "    \n",
    "    for week in zip(row['volume_percent_weekly_total'].index,row['volume_percent_weekly_total'].values,row['volume_percent_weekly_total'].values):\n",
    "        \n",
    "        entry = {}\n",
    "\n",
    "        entry['country'] = row['country']\n",
    "        entry['category'] = row['category']\n",
    "        \n",
    "\n",
    "        if week[0] in weeks_2020:\n",
    "            date = pd.to_datetime(week[0])\n",
    "\n",
    "            if type(start_md2)!=pd._libs.tslibs.nattype.NaTType and date > start_md2:\n",
    "                continue\n",
    "\n",
    "            entry['k'] = math.floor(((date - start_md).days +7) / 7)\n",
    "            entry['volume_total'] = week[1]\n",
    "            entry['volume_percent'] = week[2]\n",
    "            entry['year'] = '2020'\n",
    "            l.append(entry)\n",
    "\n",
    "        elif week[0] in weeks_2019:\n",
    "            date = pd.to_datetime(weeks_2020[weeks_2019.index(week[0])])\n",
    "            \n",
    "            if type(start_md2)!=pd._libs.tslibs.nattype.NaTType and date > start_md2:\n",
    "                continue\n",
    "\n",
    "            entry['k'] = math.floor(((date - start_md).days +7) / 7)\n",
    "            entry['volume_total'] = week[1]\n",
    "            entry['volume_percent'] = week[2]\n",
    "            entry['year'] = '2019'\n",
    "            l.append(entry)\n",
    "\n",
    "        "
   ]
  },
  {
   "cell_type": "code",
   "execution_count": 8,
   "metadata": {
    "collapsed": true
   },
   "outputs": [],
   "source": [
    "df = pd.DataFrame(l)"
   ]
  },
  {
   "cell_type": "code",
   "execution_count": 9,
   "metadata": {},
   "outputs": [
    {
     "data": {
      "text/plain": [
       "category\n",
       "dessert                         18.2\n",
       "fruit                            9.9\n",
       "vegetable and legume             9.5\n",
       "pasta, pizza and noodle dish     6.9\n",
       "wine, beer and liquor            6.6\n",
       "spice                            5.1\n",
       "rice dish                        3.8\n",
       "beef dish                        3.6\n",
       "sauce                            3.5\n",
       "chicken dish                     3.3\n",
       "cheese                           2.9\n",
       "bread and flatbread              2.7\n",
       "soup                             2.7\n",
       "egg dish                         2.6\n",
       "herb                             2.2\n",
       "soft drink                       2.1\n",
       "pork dish                        2.1\n",
       "fish dish                        1.8\n",
       "snack                            1.8\n",
       "salad                            1.7\n",
       "pastry and bakery product        1.5\n",
       "cocktail                         1.3\n",
       "pie                              1.3\n",
       "potato dish                      1.0\n",
       "sausage                          0.6\n",
       "lamb dish                        0.5\n",
       "sandwich                         0.5\n",
       "stew                             0.4\n",
       "Name: volume_percent, dtype: float64"
      ]
     },
     "execution_count": 9,
     "metadata": {},
     "output_type": "execute_result"
    }
   ],
   "source": [
    "((df.groupby('category')['volume_percent'].\\\n",
    "  agg('mean').sort_values(ascending = False))).apply(lambda x: round(x,3)*100)"
   ]
  },
  {
   "cell_type": "code",
   "execution_count": 10,
   "metadata": {},
   "outputs": [
    {
     "data": {
      "text/plain": [
       "Text(0,0.5,'Volume share')"
      ]
     },
     "execution_count": 10,
     "metadata": {},
     "output_type": "execute_result"
    },
    {
     "data": {
      "image/png": "[encoded data removed]",
      "text/plain": [
       "<Figure size 576x288 with 1 Axes>"
      ]
     },
     "metadata": {},
     "output_type": "display_data"
    }
   ],
   "source": [
    "fig, axes = plt.subplots(1,1,figsize= (8,4))\n",
    "\n",
    "((df.groupby('category')['volume_percent'].\\\n",
    "  agg('mean').sort_values(ascending = False))).plot.bar(alpha= 0.8, width = 0.8)\n",
    "\n",
    "#plt.yscale('log', basey = 2)\n",
    "plt.yticks([0,0.04,0.08,0.12,0.16,0.2],['0%','4%','8%',\"12%\",'16%','20%']);\n",
    "plt.ylabel('Volume share')\n"
   ]
  },
  {
   "cell_type": "markdown",
   "metadata": {},
   "source": [
    "### Check what is the highest bandwidth we can have"
   ]
  },
  {
   "cell_type": "code",
   "execution_count": 11,
   "metadata": {},
   "outputs": [
    {
     "data": {
      "text/plain": [
       "country\n",
       "AU    40\n",
       "BR    40\n",
       "CA    30\n",
       "DE    39\n",
       "DK    41\n",
       "EG    40\n",
       "ES    33\n",
       "FR    33\n",
       "GB    30\n",
       "ID    40\n",
       "IN    40\n",
       "IT    34\n",
       "JP    38\n",
       "KE    40\n",
       "MX    40\n",
       "NG    40\n",
       "SE    39\n",
       "US    36\n",
       "Name: k, dtype: int64"
      ]
     },
     "execution_count": 11,
     "metadata": {},
     "output_type": "execute_result"
    }
   ],
   "source": [
    "df.groupby('country').agg('k').max()"
   ]
  },
  {
   "cell_type": "code",
   "execution_count": 12,
   "metadata": {},
   "outputs": [
    {
     "data": {
      "text/plain": [
       "country\n",
       "AU   -11\n",
       "BR   -11\n",
       "CA   -10\n",
       "DE   -10\n",
       "DK   -10\n",
       "EG   -11\n",
       "ES   -10\n",
       "FR   -10\n",
       "GB   -11\n",
       "ID   -11\n",
       "IN   -11\n",
       "IT    -9\n",
       "JP   -13\n",
       "KE   -11\n",
       "MX   -11\n",
       "NG   -11\n",
       "SE   -12\n",
       "US   -10\n",
       "Name: k, dtype: int64"
      ]
     },
     "execution_count": 12,
     "metadata": {},
     "output_type": "execute_result"
    }
   ],
   "source": [
    "df.groupby('country').agg('k').min()"
   ]
  },
  {
   "cell_type": "code",
   "execution_count": 13,
   "metadata": {},
   "outputs": [
    {
     "data": {
      "text/plain": [
       "30"
      ]
     },
     "execution_count": 13,
     "metadata": {},
     "output_type": "execute_result"
    }
   ],
   "source": [
    "df.groupby('country').agg('k').max().min()"
   ]
  },
  {
   "cell_type": "code",
   "execution_count": 14,
   "metadata": {
    "collapsed": true
   },
   "outputs": [],
   "source": [
    "df = df.loc[(df['k'] >= -30) & (df['k'] <= 30)]"
   ]
  },
  {
   "cell_type": "code",
   "execution_count": 15,
   "metadata": {
    "collapsed": true
   },
   "outputs": [],
   "source": [
    "df = df.loc[(df['country'].isin(list(full_names.keys())))]"
   ]
  },
  {
   "cell_type": "code",
   "execution_count": 16,
   "metadata": {
    "collapsed": true
   },
   "outputs": [],
   "source": [
    "df['intervention_flag'] = df['k'].apply(lambda x: 1 if x >= 0 else 0)"
   ]
  },
  {
   "cell_type": "code",
   "execution_count": 17,
   "metadata": {},
   "outputs": [
    {
     "data": {
      "text/html": [
       "<div>\n",
       "<style scoped>\n",
       "    .dataframe tbody tr th:only-of-type {\n",
       "        vertical-align: middle;\n",
       "    }\n",
       "\n",
       "    .dataframe tbody tr th {\n",
       "        vertical-align: top;\n",
       "    }\n",
       "\n",
       "    .dataframe thead th {\n",
       "        text-align: right;\n",
       "    }\n",
       "</style>\n",
       "<table border=\"1\" class=\"dataframe\">\n",
       "  <thead>\n",
       "    <tr style=\"text-align: right;\">\n",
       "      <th></th>\n",
       "      <th>country</th>\n",
       "      <th>category</th>\n",
       "      <th>k</th>\n",
       "      <th>volume_total</th>\n",
       "      <th>volume_percent</th>\n",
       "      <th>year</th>\n",
       "      <th>intervention_flag</th>\n",
       "    </tr>\n",
       "  </thead>\n",
       "  <tbody>\n",
       "    <tr>\n",
       "      <th>0</th>\n",
       "      <td>FR</td>\n",
       "      <td>dessert</td>\n",
       "      <td>-10</td>\n",
       "      <td>0.181580</td>\n",
       "      <td>0.181580</td>\n",
       "      <td>2019</td>\n",
       "      <td>0</td>\n",
       "    </tr>\n",
       "    <tr>\n",
       "      <th>1</th>\n",
       "      <td>FR</td>\n",
       "      <td>dessert</td>\n",
       "      <td>-9</td>\n",
       "      <td>0.198787</td>\n",
       "      <td>0.198787</td>\n",
       "      <td>2019</td>\n",
       "      <td>0</td>\n",
       "    </tr>\n",
       "    <tr>\n",
       "      <th>2</th>\n",
       "      <td>FR</td>\n",
       "      <td>dessert</td>\n",
       "      <td>-8</td>\n",
       "      <td>0.215539</td>\n",
       "      <td>0.215539</td>\n",
       "      <td>2019</td>\n",
       "      <td>0</td>\n",
       "    </tr>\n",
       "    <tr>\n",
       "      <th>3</th>\n",
       "      <td>FR</td>\n",
       "      <td>dessert</td>\n",
       "      <td>-7</td>\n",
       "      <td>0.256282</td>\n",
       "      <td>0.256282</td>\n",
       "      <td>2019</td>\n",
       "      <td>0</td>\n",
       "    </tr>\n",
       "    <tr>\n",
       "      <th>4</th>\n",
       "      <td>FR</td>\n",
       "      <td>dessert</td>\n",
       "      <td>-6</td>\n",
       "      <td>0.237320</td>\n",
       "      <td>0.237320</td>\n",
       "      <td>2019</td>\n",
       "      <td>0</td>\n",
       "    </tr>\n",
       "  </tbody>\n",
       "</table>\n",
       "</div>"
      ],
      "text/plain": [
       "  country category   k  volume_total  volume_percent  year  intervention_flag\n",
       "0      FR  dessert -10      0.181580        0.181580  2019                  0\n",
       "1      FR  dessert  -9      0.198787        0.198787  2019                  0\n",
       "2      FR  dessert  -8      0.215539        0.215539  2019                  0\n",
       "3      FR  dessert  -7      0.256282        0.256282  2019                  0\n",
       "4      FR  dessert  -6      0.237320        0.237320  2019                  0"
      ]
     },
     "execution_count": 17,
     "metadata": {},
     "output_type": "execute_result"
    }
   ],
   "source": [
    "df.head()"
   ]
  },
  {
   "cell_type": "code",
   "execution_count": 18,
   "metadata": {
    "collapsed": true
   },
   "outputs": [],
   "source": [
    "def generate_equation(order):\n",
    "    if order == 'Cubic':\n",
    "        eq = \"volume_percent ~ intervention_flag*k*year + intervention_flag*np.power(k,2)*year + intervention_flag*np.power(k,3)*year\"\n",
    "    elif order == \"Quadratic\":\n",
    "        eq = \"volume_percent ~ intervention_flag*k*year + intervention_flag*np.power(k,2)*year\"\n",
    "    elif order == \"Linear\":\n",
    "        eq = \"volume_percent ~ intervention_flag*k*year\"\n",
    "    elif order == 'Constant':\n",
    "        eq = \"volume_percent ~ intervention_flag*year\"\n",
    "    return eq\n",
    "    "
   ]
  },
  {
   "cell_type": "code",
   "execution_count": 19,
   "metadata": {
    "collapsed": true
   },
   "outputs": [],
   "source": [
    "def make_stars(val):\n",
    "    if val<0.0001:\n",
    "        return '****'\n",
    "    elif val<0.001:\n",
    "        return '***'\n",
    "    elif val<0.01:\n",
    "        return '**'\n",
    "    elif val<0.05:\n",
    "        return '*'\n",
    "    else:\n",
    "        return ''"
   ]
  },
  {
   "cell_type": "code",
   "execution_count": 20,
   "metadata": {
    "collapsed": true
   },
   "outputs": [],
   "source": [
    "def generate_equation_interactions(order):\n",
    "    if order == 'Cubic':\n",
    "        eq = \"volume_percent ~ intervention_flag*k*year*C(country)*C(category) + intervention_flag*np.power(k,2)*year*C(country)*C(category) + intervention_flag*np.power(k,3)*year*C(country)*C(category)\"\n",
    "    elif order == \"Quadratic\":\n",
    "        eq = \"volume_percent ~ intervention_flag*k*year*C(country)*C(category) + intervention_flag*np.power(k,2)*year*C(country)*C(category)\"\n",
    "    elif order == \"Linear\":\n",
    "        eq = \"volume_percent ~ intervention_flag*k*year*C(country)*C(category)\"\n",
    "    elif order == 'Constant':\n",
    "        eq = \"volume_percent ~ intervention_flag*year*C(country)*C(category)\"\n",
    "    return eq\n",
    "    "
   ]
  },
  {
   "cell_type": "code",
   "execution_count": 21,
   "metadata": {
    "collapsed": true
   },
   "outputs": [],
   "source": [
    "cats =  list(df['category'].unique())"
   ]
  },
  {
   "cell_type": "code",
   "execution_count": 22,
   "metadata": {
    "collapsed": true
   },
   "outputs": [],
   "source": [
    "k = 30"
   ]
  },
  {
   "cell_type": "code",
   "execution_count": 23,
   "metadata": {
    "collapsed": true
   },
   "outputs": [],
   "source": [
    "df_temp = df.loc[(df['k'] >= -k) & (df['k'] <= k)].copy()\n",
    "\n",
    "df_temp['volume_percent'] = df_temp['volume_percent'].apply(lambda x: np.log(x+ 0.00001))\n",
    "\n",
    "mod = smf.ols(generate_equation_interactions('Quadratic'), data = df_temp)\n",
    "\n",
    "result_interactions = mod.fit(cov_type='hc0')"
   ]
  },
  {
   "cell_type": "code",
   "execution_count": 24,
   "metadata": {},
   "outputs": [
    {
     "data": {
      "text/plain": [
       "['beef dish',\n",
       " 'bread and flatbread',\n",
       " 'cheese',\n",
       " 'chicken dish',\n",
       " 'cocktail',\n",
       " 'dessert',\n",
       " 'egg dish',\n",
       " 'fish dish',\n",
       " 'fruit',\n",
       " 'herb',\n",
       " 'lamb dish',\n",
       " 'pasta, pizza and noodle dish',\n",
       " 'pastry and bakery product',\n",
       " 'pie',\n",
       " 'pork dish',\n",
       " 'potato dish',\n",
       " 'rice dish',\n",
       " 'salad',\n",
       " 'sandwich',\n",
       " 'sauce',\n",
       " 'sausage',\n",
       " 'snack',\n",
       " 'soft drink',\n",
       " 'soup',\n",
       " 'spice',\n",
       " 'stew',\n",
       " 'vegetable and legume',\n",
       " 'wine, beer and liquor']"
      ]
     },
     "execution_count": 24,
     "metadata": {},
     "output_type": "execute_result"
    }
   ],
   "source": [
    "sorted(cats)"
   ]
  },
  {
   "cell_type": "code",
   "execution_count": 25,
   "metadata": {
    "collapsed": true
   },
   "outputs": [],
   "source": [
    "default_country = 'AU'\n",
    "default_category = 'beef dish'"
   ]
  },
  {
   "cell_type": "code",
   "execution_count": 26,
   "metadata": {
    "collapsed": true
   },
   "outputs": [],
   "source": [
    "alpha_baseline = 'intervention_flag:year[T.2020]'\n",
    "beta_baseline = 'intervention_flag:k:year[T.2020]'\n",
    "gamma_baseline = 'intervention_flag:np.power(k, 2):year[T.2020]'"
   ]
  },
  {
   "cell_type": "code",
   "execution_count": 27,
   "metadata": {
    "collapsed": true
   },
   "outputs": [],
   "source": [
    "def get_standard_error_sum(covariates):\n",
    "    '''\n",
    "    #95CI is approximated with +- 2 sum_variance_standard_error\n",
    "    '''\n",
    "    \n",
    "    #get the variance covariance matrix\n",
    "    vcov = result_interactions.cov_params()\\\n",
    "        .loc[covariates,covariates].values\n",
    "    \n",
    "    #calculate the sum of all pair wise covariances by summing up\n",
    "    m_sum = np.sum(vcov)\n",
    "    \n",
    "    #variance of a sum of variables is the square root\n",
    "    return np.sqrt((m_sum))"
   ]
  },
  {
   "cell_type": "code",
   "execution_count": 28,
   "metadata": {
    "collapsed": true
   },
   "outputs": [],
   "source": [
    "list_results = []\n",
    "\n",
    "\n",
    "\n",
    "for country in full_names.keys():\n",
    "    for c in cats:\n",
    "        \n",
    "        entry = {}\n",
    "        entry['country']  = country\n",
    "        entry['category'] = c\n",
    "        \n",
    "        suffix_country = (':C(country)[T.'+country+']')\n",
    "        suffix_category = (':C(category)[T.'+c+']')\n",
    "        \n",
    "        if country == default_country and c == default_category:\n",
    "            \n",
    "            total_alpha = (result_interactions.params[alpha_baseline])\n",
    "            total_alpha_error = (result_interactions.bse[alpha_baseline])\n",
    "            \n",
    "            total_beta = (result_interactions.params[beta_baseline])\n",
    "            total_beta_error = (result_interactions.bse[beta_baseline])\n",
    "            \n",
    "            total_gamma = (result_interactions.params[gamma_baseline])\n",
    "            total_gamma_error = (result_interactions.bse[gamma_baseline])\n",
    "            \n",
    "        elif country == default_country and c != default_category:\n",
    "            \n",
    "            total_alpha = (result_interactions.params[alpha_baseline]) \\\n",
    "                    + (result_interactions.params[alpha_baseline + suffix_category]) \n",
    "            total_alpha_error = (get_standard_error_sum([alpha_baseline, \n",
    "                                                         alpha_baseline + suffix_category]))\n",
    "            \n",
    "            total_beta = (result_interactions.params[beta_baseline]) \\\n",
    "                    + (result_interactions.params[beta_baseline + suffix_category]) \n",
    "            total_beta_error = (get_standard_error_sum([beta_baseline, \n",
    "                                                         beta_baseline + suffix_category]))\n",
    "            \n",
    "            total_gamma = (result_interactions.params[gamma_baseline]) \\\n",
    "                    + (result_interactions.params[gamma_baseline + suffix_category]) \n",
    "            total_gamma_error = (get_standard_error_sum([gamma_baseline, \n",
    "                                                         gamma_baseline + suffix_category]))\n",
    "\n",
    "        elif country != default_country and c == default_category:\n",
    "            \n",
    "            total_alpha = (result_interactions.params[alpha_baseline]) \\\n",
    "                    + (result_interactions.params[alpha_baseline + suffix_country]) \n",
    "            total_alpha_error = (get_standard_error_sum([alpha_baseline,\n",
    "                                                         alpha_baseline + suffix_country]))\n",
    "            \n",
    "            total_beta = (result_interactions.params[beta_baseline]) \\\n",
    "                    + (result_interactions.params[beta_baseline + suffix_country]) \n",
    "            total_beta_error = (get_standard_error_sum([beta_baseline,\n",
    "                                                         beta_baseline + suffix_country]))\n",
    "            \n",
    "            total_gamma = (result_interactions.params[gamma_baseline]) \\\n",
    "                    + (result_interactions.params[gamma_baseline + suffix_country]) \n",
    "            total_gamma_error = (get_standard_error_sum([gamma_baseline,\n",
    "                                                         gamma_baseline + suffix_country]))\n",
    "\n",
    "        else:\n",
    "            total_alpha = (result_interactions.params[alpha_baseline]) \\\n",
    "                    + (result_interactions.params[alpha_baseline + suffix_country]) \\\n",
    "                    + (result_interactions.params[alpha_baseline + suffix_category]) \\\n",
    "                    + (result_interactions.params[alpha_baseline + suffix_country + suffix_category])\n",
    "            \n",
    "            total_alpha_error = (get_standard_error_sum([alpha_baseline, \n",
    "                                                         alpha_baseline + suffix_category,\n",
    "                                                         alpha_baseline + suffix_country, \n",
    "                                                         alpha_baseline + suffix_country + suffix_category]))\n",
    "            \n",
    "            total_beta = (result_interactions.params[beta_baseline]) \\\n",
    "                    + (result_interactions.params[beta_baseline + suffix_country]) \\\n",
    "                    + (result_interactions.params[beta_baseline + suffix_category]) \\\n",
    "                    + (result_interactions.params[beta_baseline + suffix_country + suffix_category])\n",
    "            \n",
    "            total_beta_error = (get_standard_error_sum([beta_baseline, \n",
    "                                                         beta_baseline + suffix_category,\n",
    "                                                         beta_baseline + suffix_country, \n",
    "                                                         beta_baseline + suffix_country + suffix_category]))\n",
    "            \n",
    "            total_gamma = (result_interactions.params[gamma_baseline]) \\\n",
    "                    + (result_interactions.params[gamma_baseline + suffix_country]) \\\n",
    "                    + (result_interactions.params[gamma_baseline + suffix_category]) \\\n",
    "                    + (result_interactions.params[gamma_baseline + suffix_country + suffix_category])\n",
    "            \n",
    "            total_gamma_error = (get_standard_error_sum([gamma_baseline, \n",
    "                                                         gamma_baseline + suffix_category,\n",
    "                                                         gamma_baseline + suffix_country, \n",
    "                                                         gamma_baseline + suffix_country + suffix_category]))\n",
    "            \n",
    "        entry['alpha'] = total_alpha\n",
    "        entry['alpha_ste'] = total_alpha_error\n",
    "        entry['beta'] = total_beta\n",
    "        entry['beta_ste'] = total_beta_error\n",
    "        entry['gamma'] = total_gamma\n",
    "        entry['gamma_ste'] = total_gamma_error\n",
    "        \n",
    "        list_results.append(entry)"
   ]
  },
  {
   "cell_type": "code",
   "execution_count": 29,
   "metadata": {
    "collapsed": true
   },
   "outputs": [],
   "source": [
    "df_results = pd.DataFrame(list_results)"
   ]
  },
  {
   "cell_type": "markdown",
   "metadata": {},
   "source": [
    "## 1. For all categories, show alpha in different countries"
   ]
  },
  {
   "cell_type": "code",
   "execution_count": 30,
   "metadata": {
    "collapsed": true
   },
   "outputs": [],
   "source": [
    "cats_sorted = list(df_results.groupby('category')['alpha'].agg('mean').sort_values(ascending = False).index)\n",
    "countries_sorted = list(df_results.groupby('country')['alpha'].\\\n",
    "     agg('mean').sort_values(ascending = False).index)"
   ]
  },
  {
   "cell_type": "code",
   "execution_count": 31,
   "metadata": {
    "collapsed": true
   },
   "outputs": [],
   "source": [
    "sorterIndex = dict(zip(countries_sorted, range(len(countries_sorted))))\n",
    "\n",
    "def sort_pd(key=None,reverse=False):\n",
    "    def sorter(series):\n",
    "        series_list = list(series)\n",
    "        return [series_list.index(i) \n",
    "           for i in sorted(series_list,key=key,reverse=reverse)]\n",
    "    return sorter\n",
    "\n",
    "sort_by_custom_dict = sort_pd(key=sorterIndex.get)"
   ]
  },
  {
   "cell_type": "code",
   "execution_count": 32,
   "metadata": {},
   "outputs": [
    {
     "data": {
      "image/png": "[encoded data removed]",
      "text/plain": [
       "<Figure size 864x720 with 28 Axes>"
      ]
     },
     "metadata": {},
     "output_type": "display_data"
    }
   ],
   "source": [
    "fig, axes = plt.subplots(7,4, figsize = (12,10), sharey = True)\n",
    "\n",
    "for cnt,c in enumerate(cats_sorted):\n",
    "    sbplt = axes[math.floor(cnt/4), cnt%4]\n",
    "    x = df_results.loc[df_results['category'] == c].iloc[sort_by_custom_dict(df_results.loc[df_results['category'] == c]['country'])][['alpha','country','alpha_ste']]\n",
    "    \n",
    "    colors_bars = []\n",
    "    for i in range(18):\n",
    "        if x['alpha'].values[i]>0 and x['alpha'].values[i]-2*x['alpha_ste'].values[i]>0:\n",
    "            colors_bars.append('darkmagenta')\n",
    "        elif x['alpha'].values[i]<0 and x['alpha'].values[i]+2*x['alpha_ste'].values[i]<0:\n",
    "            colors_bars.append('darkgoldenrod')\n",
    "        else:\n",
    "            colors_bars.append('gray')\n",
    "            \n",
    "    #sbplt.bar(range(12),x['alpha'].apply(lambda x: np.exp(x)-1), yerr = 2*x['alpha_ste'].apply(lambda x: np.exp(x)-1), color = colors_bars)\n",
    "    \n",
    "    sbplt.bar(range(18),x['alpha'].apply(lambda x: np.exp(x)-1),\n",
    "            #here we convert errors back to linear scale\n",
    "            yerr = np.array([x['alpha'].apply(lambda x: np.exp(x)-1) - (x['alpha']-2*x['alpha_ste']).apply(lambda x: np.exp(x)-1),\n",
    "                            (x['alpha']+2*x['alpha_ste']).apply(lambda x: np.exp(x)-1) - x['alpha'].apply(lambda x: np.exp(x)-1)]), \n",
    "            color = colors_bars)\n",
    "    \n",
    "    sbplt.set_xticks(range(18))\n",
    "    sbplt.set_xticklabels(x['country'], fontsize= 7)\n",
    "    sbplt.set_title(c)\n",
    "    \n",
    "    sbplt.set_yticks([-1,-0.5,0,0.5,1])\n",
    "    sbplt.set_yticklabels([\"-100%\",\"-50%\",\"0\",\"+50%\",\"+100%\"])\n",
    "    sbplt.set_ylim([-1.7,1.7])\n",
    "\n",
    "#fig.suptitle(\"α\", position = (0.5, 1.05))\n",
    "plt.tight_layout()\n",
    "\n",
    "plt.savefig(FIGURES_DIR+\"appendix_fraction_cats.pdf\", bbox_inches='tight')"
   ]
  },
  {
   "cell_type": "code",
   "execution_count": null,
   "metadata": {
    "collapsed": true
   },
   "outputs": [],
   "source": []
  }
 ],
 "metadata": {
  "kernelspec": {
   "display_name": "Python 3",
   "language": "python",
   "name": "python3"
  },
  "language_info": {
   "codemirror_mode": {
    "name": "ipython",
    "version": 3
   },
   "file_extension": ".py",
   "mimetype": "text/x-python",
   "name": "python",
   "nbconvert_exporter": "python",
   "pygments_lexer": "ipython3",
   "version": "3.6.3"
  },
  "varInspector": {
   "cols": {
    "lenName": 16,
    "lenType": 16,
    "lenVar": 40
   },
   "kernels_config": {
    "python": {
     "delete_cmd_postfix": "",
     "delete_cmd_prefix": "del ",
     "library": "var_list.py",
     "varRefreshCmd": "print(var_dic_list())"
    },
    "r": {
     "delete_cmd_postfix": ") ",
     "delete_cmd_prefix": "rm(",
     "library": "var_list.r",
     "varRefreshCmd": "cat(var_dic_list()) "
    }
   },
   "types_to_exclude": [
    "module",
    "function",
    "builtin_function_or_method",
    "instance",
    "_Feature"
   ],
   "window_display": false
  }
 },
 "nbformat": 4,
 "nbformat_minor": 4
}
