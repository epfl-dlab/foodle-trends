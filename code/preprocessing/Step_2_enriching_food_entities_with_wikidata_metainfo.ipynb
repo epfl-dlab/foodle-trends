{
 "cells": [
  {
   "cell_type": "code",
   "execution_count": 1,
   "metadata": {},
   "outputs": [],
   "source": [
    "import pandas as pd\n",
    "import numpy as np\n",
    "import matplotlib.pyplot as plt\n",
    "import os\n",
    "\n",
    "parentDirectory = os.path.abspath(os.path.join(os.path.join(os.getcwd(), os.pardir), os.pardir))\n",
    "DATA_DIR = parentDirectory +'/data/'\n",
    "FIGURES_DIR = parentDirectory +'/figures/'\n",
    "\n",
    "#subclass of:\n",
    "#We keep classes with at least 10 entities\n",
    "#We normalize certain classes\n",
    "\n",
    "classes = ['cocktail', 'pasta', 'cheese', 'vegetable', 'sauce', 'dessert', 'soup',\n",
    "       'rice dish', 'confection', 'chicken dish', 'pastry', 'pork dish',\n",
    "       'fish dish', 'spice', 'cake', 'stew', 'potato dish', 'salad',\n",
    "       'chocolate bar', 'sandwich', 'pudding', 'herb', 'pasta dish',\n",
    "       'lamb dish', 'beef dish', 'egg dish', 'pie', 'soft drink', 'liquor',\n",
    "       'snack', 'flatbread', 'fruit', 'sausage'];\n",
    "\n",
    "#instance of:\n",
    "#We keep classes with at least 10 entities\n",
    "#We normalize certain classes\n",
    "\n",
    "instances = ['cocktail', 'pasta', 'cheese','dessert'];\n",
    "\n",
    "#Keep countries at least 10 entities\n",
    "countries = ['Italy', 'France', 'Japan', 'United States of America',\n",
    "       'India', 'United Kingdom', 'Indonesia',\n",
    "       'Spain', 'Korea', 'Mexico', 'Germany', 'Turkey', 'Philippines',\n",
    "       'Vietnam', 'Greece', 'England', 'Scotland', 'China', 'Poland',\n",
    "       'Austria', 'Thailand', 'Switzerland', 'Malaysia']\n",
    "\n",
    "def clean_subclass_labels(t):\n",
    "    if t == \"British cheese\" or t == \"Italian cheese\" or t == \"cow's-milk cheese\":\n",
    "        return 'cheese'\n",
    "    elif t == 'stuffed pasta':\n",
    "        return 'pasta'\n",
    "    elif t == 'spice mix':\n",
    "        return 'spice'\n",
    "    elif t == 'cookie':\n",
    "        return 'dessert'\n",
    "    elif t in classes:\n",
    "        return t\n",
    "    else:\n",
    "        return np.nan\n",
    "    \n",
    "def clean_instance_labels(t):\n",
    "    if t == 'IBA Official Cocktail':\n",
    "        return 'cocktail'\n",
    "    elif t == 'type of pasta':\n",
    "        return 'pasta'\n",
    "    elif t == 'French cheese':\n",
    "        return 'cheese'\n",
    "    elif t in instances:\n",
    "        return t\n",
    "    else:\n",
    "        return np.nan\n",
    "    \n",
    "def clean_country_labels(t):\n",
    "    if t == \"People's Republic of China\" :\n",
    "        return 'China'\n",
    "    elif t in countries:\n",
    "        return t\n",
    "    else:\n",
    "        return np.nan"
   ]
  },
  {
   "cell_type": "code",
   "execution_count": 2,
   "metadata": {},
   "outputs": [
    {
     "name": "stderr",
     "output_type": "stream",
     "text": [
      "/opt/anaconda3/lib/python3.7/site-packages/IPython/core/interactiveshell.py:3063: DtypeWarning: Columns (11,12,24,32,35,36,38,42,57,58,59,62,63,64,65,66,68,69,70,71,72,76,78,80,81,84,85,87,90,93,94,95,96,97,99,100,107,110,111,115,127,129,134,148,156,157,159,161,162,163,164,165,166,171,172,181,185,187,189,190,191,192,198,202,209,211,214,216,217,218,220,221,223,225,226,227,228,229,232,234,236,237,240,241,243,244,245,246,247,248,249,250,251,252,253,257,265,266,268,270,271,272,273,275,276,279,280,284,286,287,291,292,293,295,296,297,298,299,300,301,309,314,315,316,320,321,322,324,325,327,328,331,333,334,336,338,344,347,349,353,354,355,356,357,361,363,368,369,370,371,372,374,375,377,378,381,382,384,388,389,391,396,400,403,407,410,412,413,414,415,417,420,423,426,427,428,429,431,433,434,436,437,438,439,442,443,444,447,448,449,450,451,452,453,455,456,459,460,461,462,464,465,466,467,472,474,477,479,481,482,485,487,494,496,499,500,502,503,506,507,509,510,511,513,514,519,520,521,523,524,525,528,529,530,531,533,536,537,538,539,541,542,544,545,546,549,550,551,552,553,554,555,556,557,558,562,566,567,568,569,572,574,575,576,579,580,581,582,583,584,592,593,596,600,601,602,603,605,607,608,609,610,611,615,616,617,618,619,623,624,625,626,628,629,632,634,636,637,638,641,642,644,645,646,649,651,652,653,654,655,656,659,660,662,664,665,666,667,668,669,670,671,672,673,674,676,677,678,679,682,684,685,686,687,688,690,692,694,695,697,698,700,701,703,705,706,709,710,711,712,714,715,716,717,718,719,720,721,722,723,725,726,727,728,729,730,734,735,738,739,740,741,742,743,744,745,748,749,751,752,754,755,756,757,758,759,760,761,762) have mixed types.Specify dtype option on import or set low_memory=False.\n",
      "  interactivity=interactivity, compiler=compiler, result=result)\n"
     ]
    }
   ],
   "source": [
    "df = pd.read_csv(DATA_DIR+'wikidata_info_entities.csv')\n",
    "columns = [\n",
    "  #freebase id\n",
    " 'mid',\n",
    "  #wikidata qid\n",
    " 'qid',\n",
    "  #freebase entity name\n",
    " 'name',\n",
    "  #freebase entity types\n",
    " 'mid_types',\n",
    "  #country of origin\n",
    " 'country of origin',\n",
    "  #instance of\n",
    " 'instance of',\n",
    "  #subclass of\n",
    " 'subclass of',\n",
    "]\n",
    "df = df[columns]"
   ]
  },
  {
   "cell_type": "code",
   "execution_count": 3,
   "metadata": {},
   "outputs": [],
   "source": [
    "df = pd.read_csv(DATA_DIR+'wikidata_info_entities.csv')\n",
    "columns = [\n",
    "  #freebase id\n",
    " 'mid',\n",
    "  #wikidata qid\n",
    " 'qid',\n",
    "  #freebase entity name\n",
    " 'name',\n",
    "  #freebase entity types\n",
    " 'mid_types',\n",
    "  #country of origin\n",
    " 'country of origin',\n",
    "  #instance of\n",
    " 'instance of',\n",
    "  #subclass of\n",
    " 'subclass of',\n",
    "]\n",
    "df = df[columns]\n",
    "df['subclass of'] = df['subclass of'].astype(str)\n",
    "df['instance of'] = df['instance of'].astype(str)\n",
    "df['country of origin'] = df['country of origin'].astype(str)"
   ]
  },
  {
   "cell_type": "markdown",
   "metadata": {},
   "source": [
    "### 1. Clean instance of and subclass of"
   ]
  },
  {
   "cell_type": "code",
   "execution_count": 4,
   "metadata": {},
   "outputs": [],
   "source": [
    "df['subclass of'] = df['subclass of'].apply(lambda x: clean_subclass_labels(x))\n",
    "df['instance of'] = df['instance of'].apply(lambda x: clean_instance_labels(x))"
   ]
  },
  {
   "cell_type": "markdown",
   "metadata": {},
   "source": [
    "### 2. Merge instance of and subclass of into a class"
   ]
  },
  {
   "cell_type": "code",
   "execution_count": 5,
   "metadata": {},
   "outputs": [],
   "source": [
    "cs = []\n",
    "for cnt,row in df.iterrows():\n",
    "    if (type(row['subclass of']) == str):\n",
    "        cs.append(row['subclass of'])\n",
    "    elif (type(row['instance of']) == str):\n",
    "        cs.append(row['instance of'])\n",
    "    else:\n",
    "        cs.append(np.nan)        "
   ]
  },
  {
   "cell_type": "code",
   "execution_count": 6,
   "metadata": {},
   "outputs": [],
   "source": [
    "df['class'] = cs"
   ]
  },
  {
   "cell_type": "code",
   "execution_count": 7,
   "metadata": {},
   "outputs": [
    {
     "data": {
      "text/plain": [
       "33"
      ]
     },
     "execution_count": 7,
     "metadata": {},
     "output_type": "execute_result"
    }
   ],
   "source": [
    "len(df['class'].value_counts())"
   ]
  },
  {
   "cell_type": "code",
   "execution_count": 8,
   "metadata": {},
   "outputs": [
    {
     "data": {
      "text/plain": [
       "33"
      ]
     },
     "execution_count": 8,
     "metadata": {},
     "output_type": "execute_result"
    }
   ],
   "source": [
    "len(classes)"
   ]
  },
  {
   "cell_type": "code",
   "execution_count": 9,
   "metadata": {},
   "outputs": [
    {
     "data": {
      "text/plain": [
       "Dish,Food                        1297\n",
       "Food,Ingredient                   929\n",
       "Food                              567\n",
       "Ingredient                        268\n",
       "Dish                              205\n",
       "Beverage,Dish                     172\n",
       "Beverage                          138\n",
       "Beverage,Food,Ingredient           62\n",
       "Beverage,Dish,Food                 23\n",
       "Beverage,Food                      11\n",
       "Beverage,Dish,Food,Ingredient       6\n",
       "Beverage,Ingredient                 3\n",
       "Dish,Food,Ingredient                1\n",
       "Name: mid_types, dtype: int64"
      ]
     },
     "execution_count": 9,
     "metadata": {},
     "output_type": "execute_result"
    }
   ],
   "source": [
    "df['mid_types'].value_counts()"
   ]
  },
  {
   "cell_type": "markdown",
   "metadata": {},
   "source": [
    "### 3. Clean country of origin"
   ]
  },
  {
   "cell_type": "code",
   "execution_count": 10,
   "metadata": {},
   "outputs": [],
   "source": [
    "df['country of origin'] = df['country of origin'].apply(lambda x: clean_country_labels(x))"
   ]
  },
  {
   "cell_type": "code",
   "execution_count": 11,
   "metadata": {},
   "outputs": [],
   "source": [
    "df = df[['mid', 'qid', 'name', 'mid_types', 'country of origin','class']]"
   ]
  },
  {
   "cell_type": "code",
   "execution_count": 12,
   "metadata": {
    "scrolled": true
   },
   "outputs": [
    {
     "data": {
      "text/plain": [
       "926"
      ]
     },
     "execution_count": 12,
     "metadata": {},
     "output_type": "execute_result"
    }
   ],
   "source": [
    "len(df.dropna(subset = ['class']))"
   ]
  },
  {
   "cell_type": "markdown",
   "metadata": {},
   "source": [
    "### 4. Merge with manually annotated"
   ]
  },
  {
   "cell_type": "code",
   "execution_count": 13,
   "metadata": {},
   "outputs": [],
   "source": [
    "a = pd.concat([pd.read_csv(DATA_DIR+'annotated_mids.csv'),pd.read_csv(DATA_DIR+'annotated_3.csv')]).dropna(subset = ['class'])"
   ]
  },
  {
   "cell_type": "code",
   "execution_count": 14,
   "metadata": {},
   "outputs": [],
   "source": [
    "df_annotated = a.drop_duplicates(subset = ['mid'])"
   ]
  },
  {
   "cell_type": "code",
   "execution_count": 15,
   "metadata": {},
   "outputs": [
    {
     "data": {
      "text/html": [
       "<div>\n",
       "<style scoped>\n",
       "    .dataframe tbody tr th:only-of-type {\n",
       "        vertical-align: middle;\n",
       "    }\n",
       "\n",
       "    .dataframe tbody tr th {\n",
       "        vertical-align: top;\n",
       "    }\n",
       "\n",
       "    .dataframe thead th {\n",
       "        text-align: right;\n",
       "    }\n",
       "</style>\n",
       "<table border=\"1\" class=\"dataframe\">\n",
       "  <thead>\n",
       "    <tr style=\"text-align: right;\">\n",
       "      <th></th>\n",
       "      <th>Unnamed: 0</th>\n",
       "      <th>mid</th>\n",
       "      <th>name_x</th>\n",
       "      <th>class</th>\n",
       "    </tr>\n",
       "  </thead>\n",
       "  <tbody>\n",
       "    <tr>\n",
       "      <th>1</th>\n",
       "      <td>1</td>\n",
       "      <td>/m/0f25w9</td>\n",
       "      <td>Chicken meat</td>\n",
       "      <td>chicken dish</td>\n",
       "    </tr>\n",
       "    <tr>\n",
       "      <th>2</th>\n",
       "      <td>2</td>\n",
       "      <td>/m/0663v</td>\n",
       "      <td>Pizza</td>\n",
       "      <td>pasta dish</td>\n",
       "    </tr>\n",
       "    <tr>\n",
       "      <th>5</th>\n",
       "      <td>5</td>\n",
       "      <td>/m/01nkt</td>\n",
       "      <td>Cheese (Ingredient)</td>\n",
       "      <td>cheese</td>\n",
       "    </tr>\n",
       "    <tr>\n",
       "      <th>6</th>\n",
       "      <td>6</td>\n",
       "      <td>/m/033cnk</td>\n",
       "      <td>Egg</td>\n",
       "      <td>egg dish</td>\n",
       "    </tr>\n",
       "    <tr>\n",
       "      <th>8</th>\n",
       "      <td>8</td>\n",
       "      <td>/m/09728</td>\n",
       "      <td>Bread (Literature Subject)</td>\n",
       "      <td>flatbread</td>\n",
       "    </tr>\n",
       "    <tr>\n",
       "      <th>...</th>\n",
       "      <td>...</td>\n",
       "      <td>...</td>\n",
       "      <td>...</td>\n",
       "      <td>...</td>\n",
       "    </tr>\n",
       "    <tr>\n",
       "      <th>655</th>\n",
       "      <td>655</td>\n",
       "      <td>/m/018sbr</td>\n",
       "      <td>Danish pastry</td>\n",
       "      <td>pastry</td>\n",
       "    </tr>\n",
       "    <tr>\n",
       "      <th>657</th>\n",
       "      <td>657</td>\n",
       "      <td>/m/01m42v</td>\n",
       "      <td>Triple sec</td>\n",
       "      <td>cocktail</td>\n",
       "    </tr>\n",
       "    <tr>\n",
       "      <th>658</th>\n",
       "      <td>658</td>\n",
       "      <td>/m/04_bbx</td>\n",
       "      <td>Pain au chocolat</td>\n",
       "      <td>pastry</td>\n",
       "    </tr>\n",
       "    <tr>\n",
       "      <th>659</th>\n",
       "      <td>659</td>\n",
       "      <td>/m/02xf10</td>\n",
       "      <td>Ramp</td>\n",
       "      <td>vegetable</td>\n",
       "    </tr>\n",
       "    <tr>\n",
       "      <th>660</th>\n",
       "      <td>660</td>\n",
       "      <td>/m/033q04</td>\n",
       "      <td>Chokeberry</td>\n",
       "      <td>fruit</td>\n",
       "    </tr>\n",
       "  </tbody>\n",
       "</table>\n",
       "<p>542 rows × 4 columns</p>\n",
       "</div>"
      ],
      "text/plain": [
       "     Unnamed: 0        mid                      name_x         class\n",
       "1             1  /m/0f25w9                Chicken meat  chicken dish\n",
       "2             2   /m/0663v                       Pizza    pasta dish\n",
       "5             5   /m/01nkt         Cheese (Ingredient)        cheese\n",
       "6             6  /m/033cnk                         Egg      egg dish\n",
       "8             8   /m/09728  Bread (Literature Subject)     flatbread\n",
       "..          ...        ...                         ...           ...\n",
       "655         655  /m/018sbr               Danish pastry        pastry\n",
       "657         657  /m/01m42v                  Triple sec      cocktail\n",
       "658         658  /m/04_bbx            Pain au chocolat        pastry\n",
       "659         659  /m/02xf10                        Ramp     vegetable\n",
       "660         660  /m/033q04                  Chokeberry         fruit\n",
       "\n",
       "[542 rows x 4 columns]"
      ]
     },
     "execution_count": 15,
     "metadata": {},
     "output_type": "execute_result"
    }
   ],
   "source": [
    "df_annotated"
   ]
  },
  {
   "cell_type": "code",
   "execution_count": 16,
   "metadata": {},
   "outputs": [],
   "source": [
    "df_annotated = df_annotated[['mid', 'name_x', 'class']]"
   ]
  },
  {
   "cell_type": "code",
   "execution_count": 17,
   "metadata": {},
   "outputs": [],
   "source": [
    "for cnt,row in df.iterrows():\n",
    "    if not(type(row['class']) == str):\n",
    "        if len(df_annotated.loc[df_annotated['mid'] == row['mid']])==1:\n",
    "            row['class'] = df_annotated.loc[df_annotated['mid'] == row['mid']].iloc[0]['class']"
   ]
  },
  {
   "cell_type": "code",
   "execution_count": 18,
   "metadata": {},
   "outputs": [
    {
     "data": {
      "text/plain": [
       "Text(0, 0.5, 'number of concepts')"
      ]
     },
     "execution_count": 18,
     "metadata": {},
     "output_type": "execute_result"
    },
    {
     "data": {
      "image/png": "[encoded data removed]",
      "text/plain": [
       "<Figure size 432x288 with 1 Axes>"
      ]
     },
     "metadata": {
      "needs_background": "light"
     },
     "output_type": "display_data"
    }
   ],
   "source": [
    "df['country of origin'].value_counts().plot.bar()\n",
    "plt.ylabel('number of concepts')"
   ]
  },
  {
   "cell_type": "code",
   "execution_count": 19,
   "metadata": {},
   "outputs": [],
   "source": [
    "df['class'] = df['class'].replace('flatbread', 'bread and flatbread')\n",
    "df['class'] = df['class'].replace('pasta', 'pasta and noodle dish')\n",
    "df['class'] = df['class'].replace('pasta dish', 'pasta and noodle dish')\n",
    "df['class'] = df['class'].replace('vegetable', 'vegetable and legume')\n",
    "df['class'] = df['class'].replace('liquor', 'wine, beer and liquor')\n",
    "\n",
    "df['class'] = df['class'].replace('pudding', 'dessert')\n",
    "df['class'] = df['class'].replace('cake', 'dessert')\n",
    "df['class'] = df['class'].replace('confection', 'dessert')\n",
    "df['class'] = df['class'].replace('chocolate bar', 'dessert')\n",
    "\n",
    "df['class'] = df['class'].replace('pasta and noodle dish', 'pasta, pizza and noodle dish')\n",
    "\n",
    "df['class'] = df['class'].replace('pastry', 'pastry and bakery product')"
   ]
  },
  {
   "cell_type": "code",
   "execution_count": 20,
   "metadata": {},
   "outputs": [
    {
     "data": {
      "text/plain": [
       "1432"
      ]
     },
     "execution_count": 20,
     "metadata": {},
     "output_type": "execute_result"
    }
   ],
   "source": [
    "df['class'].value_counts().sum()"
   ]
  },
  {
   "cell_type": "code",
   "execution_count": 21,
   "metadata": {},
   "outputs": [
    {
     "data": {
      "text/plain": [
       "Text(0, 0.5, 'Number of items')"
      ]
     },
     "execution_count": 21,
     "metadata": {},
     "output_type": "execute_result"
    },
    {
     "data": {
      "image/png": "[encoded data removed]",
      "text/plain": [
       "<Figure size 576x288 with 1 Axes>"
      ]
     },
     "metadata": {
      "needs_background": "light"
     },
     "output_type": "display_data"
    }
   ],
   "source": [
    "fig, axes = plt.subplots(1,1,figsize= (8,4))\n",
    "\n",
    "df['class'].value_counts().plot.bar(alpha= 0.8, width = 0.8)\n",
    "plt.ylabel('Number of items')"
   ]
  },
  {
   "cell_type": "code",
   "execution_count": 22,
   "metadata": {},
   "outputs": [],
   "source": [
    "df.to_csv(DATA_DIR+'wikidata_info_entities_cleaned_new2.csv')"
   ]
  },
  {
   "cell_type": "code",
   "execution_count": 23,
   "metadata": {},
   "outputs": [
    {
     "data": {
      "text/plain": [
       "1432"
      ]
     },
     "execution_count": 23,
     "metadata": {},
     "output_type": "execute_result"
    }
   ],
   "source": [
    "# this is the final set of food queries\n",
    "# collected, 2019-2020, in 12 countries\n",
    "\n",
    "len(df.dropna(subset=['class']))"
   ]
  }
 ],
 "metadata": {
  "kernelspec": {
   "display_name": "Python 3",
   "language": "python",
   "name": "python3"
  },
  "language_info": {
   "codemirror_mode": {
    "name": "ipython",
    "version": 3
   },
   "file_extension": ".py",
   "mimetype": "text/x-python",
   "name": "python",
   "nbconvert_exporter": "python",
   "pygments_lexer": "ipython3",
   "version": "3.7.7"
  }
 },
 "nbformat": 4,
 "nbformat_minor": 4
}
