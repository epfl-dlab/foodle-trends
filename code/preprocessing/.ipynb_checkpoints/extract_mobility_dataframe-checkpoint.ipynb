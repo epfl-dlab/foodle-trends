{
 "cells": [
  {
   "cell_type": "code",
   "execution_count": 1,
   "metadata": {},
   "outputs": [],
   "source": [
    "import pandas as pd\n",
    "import numpy as np\n",
    "\n",
    "df = pd.read_csv('Global_Mobility_Report.csv')\n",
    "df = df.loc[df['country_region_code'].isin(['FR','DE','US','IT','CA','GB','ES','AU','NG','KE','JP','MX','BR','IN','DK'])]\n",
    "df = df[df['sub_region_1'].isna()]\n",
    "df = df[['country_region_code', 'date','residential_percent_change_from_baseline']]\n",
    "df.reset_index(drop = True)"
   ]
  }
 ],
 "metadata": {
  "kernelspec": {
   "display_name": "Python 3",
   "language": "python",
   "name": "python3"
  },
  "language_info": {
   "codemirror_mode": {
    "name": "ipython",
    "version": 3
   },
   "file_extension": ".py",
   "mimetype": "text/x-python",
   "name": "python",
   "nbconvert_exporter": "python",
   "pygments_lexer": "ipython3",
   "version": "3.7.7"
  }
 },
 "nbformat": 4,
 "nbformat_minor": 4
}
