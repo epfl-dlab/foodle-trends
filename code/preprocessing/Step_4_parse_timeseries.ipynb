{
 "cells": [
  {
   "cell_type": "code",
   "execution_count": 1,
   "metadata": {
    "collapsed": true
   },
   "outputs": [],
   "source": [
    "import pandas as pd\n",
    "import os\n",
    "import matplotlib.pyplot as plt\n",
    "import time\n",
    "\n",
    "parentDirectory = os.path.abspath(os.path.join(os.path.join(os.getcwd(), os.pardir), os.pardir))\n",
    "DATA_DIR = parentDirectory +'/data/'\n",
    "FIGURES_DIR = parentDirectory +'/figures/'"
   ]
  },
  {
   "cell_type": "code",
   "execution_count": 3,
   "metadata": {
    "collapsed": true
   },
   "outputs": [],
   "source": [
    "df_codes = pd.read_csv(DATA_DIR+\"country_codes_filtered.csv\")\n",
    "selected_codes = ['FR','DE','US','IT','CA','GB','ES','AU','MX','BR','IN','DK']\n",
    "df_query = pd.read_csv(DATA_DIR+'wikidata_info_entities_cleaned_new2.csv')[['mid','name','class']]\n",
    "df_query = df_query.dropna()"
   ]
  },
  {
   "cell_type": "code",
   "execution_count": 8,
   "metadata": {},
   "outputs": [
    {
     "data": {
      "text/plain": [
       "1432"
      ]
     },
     "execution_count": 8,
     "metadata": {},
     "output_type": "execute_result"
    }
   ],
   "source": [
    "len(df_query)"
   ]
  },
  {
   "cell_type": "code",
   "execution_count": 9,
   "metadata": {},
   "outputs": [
    {
     "name": "stdout",
     "output_type": "stream",
     "text": [
      "FR\n",
      "DE\n",
      "US\n",
      "IT\n",
      "CA\n",
      "GB\n",
      "ES\n",
      "AU\n",
      "NG\n",
      "KE\n",
      "JP\n",
      "MX\n",
      "BR\n",
      "IN\n",
      "DK\n"
     ]
    }
   ],
   "source": [
    "list_entries = []\n",
    "\n",
    "for country_code in selected_codes:\n",
    "    print(country_code)\n",
    "    for name, row in df_query.iterrows():\n",
    "        name = row['name']\n",
    "        kg_id = row['mid']\n",
    "        if os.path.exists(\"./results/{}_{}.tsv\".format(country_code, name)):\n",
    "            try:\n",
    "                entry = {}\n",
    "                entry[\"country_code\"] = country_code\n",
    "                entry[\"name\"] = name\n",
    "                entry[\"mid\"] = kg_id\n",
    "                entry[\"category\"] = row['class']\n",
    "                entry[\"ts\"] = pd.read_csv(\"./results/{}_{}.tsv\".format(country_code, name)).set_index('date').to_dict()\n",
    "\n",
    "                list_entries.append(entry)\n",
    "            except KeyError as e:\n",
    "                continue\n"
   ]
  },
  {
   "cell_type": "code",
   "execution_count": 10,
   "metadata": {
    "collapsed": true
   },
   "outputs": [],
   "source": [
    "df = pd.DataFrame(list_entries)"
   ]
  },
  {
   "cell_type": "code",
   "execution_count": 14,
   "metadata": {
    "collapsed": true
   },
   "outputs": [],
   "source": [
    "df.to_parquet(DATA_DIR+'dk_new_food_timeseries_items1.parquet')"
   ]
  },
  {
   "cell_type": "code",
   "execution_count": 15,
   "metadata": {},
   "outputs": [
    {
     "data": {
      "text/plain": [
       "28"
      ]
     },
     "execution_count": 15,
     "metadata": {},
     "output_type": "execute_result"
    }
   ],
   "source": [
    "len(df['category'].value_counts())"
   ]
  }
 ],
 "metadata": {
  "kernelspec": {
   "display_name": "Python 3",
   "language": "python",
   "name": "python3"
  },
  "language_info": {
   "codemirror_mode": {
    "name": "ipython",
    "version": 3
   },
   "file_extension": ".py",
   "mimetype": "text/x-python",
   "name": "python",
   "nbconvert_exporter": "python",
   "pygments_lexer": "ipython3",
   "version": "3.7.7"
  },
  "varInspector": {
   "cols": {
    "lenName": 16,
    "lenType": 16,
    "lenVar": 40
   },
   "kernels_config": {
    "python": {
     "delete_cmd_postfix": "",
     "delete_cmd_prefix": "del ",
     "library": "var_list.py",
     "varRefreshCmd": "print(var_dic_list())"
    },
    "r": {
     "delete_cmd_postfix": ") ",
     "delete_cmd_prefix": "rm(",
     "library": "var_list.r",
     "varRefreshCmd": "cat(var_dic_list()) "
    }
   },
   "types_to_exclude": [
    "module",
    "function",
    "builtin_function_or_method",
    "instance",
    "_Feature"
   ],
   "window_display": false
  }
 },
 "nbformat": 4,
 "nbformat_minor": 2
}
