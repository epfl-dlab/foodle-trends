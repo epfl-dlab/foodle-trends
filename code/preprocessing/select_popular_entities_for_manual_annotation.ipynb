{
 "cells": [
  {
   "cell_type": "markdown",
   "metadata": {},
   "source": [
    "# Choose a final set of countries: 12 countries\n",
    "Goal: achieve global coverage of all continents, include countries with varying measures and mobility, e.g., Brazil and Italy\n",
    "\n",
    "# Europe\n",
    "France\tFR  \n",
    "Germany\tDE  \n",
    "Italy\tIT  \n",
    "Spain\tES  \n",
    "United Kingdom\tGB  \n",
    "Denmark DK\n",
    "\n",
    "# N. America\n",
    "United States\tUS  \n",
    "Canada\tCA  \n",
    "\n",
    "# S. America\n",
    "Mexico\tMX  \n",
    "Brazil\tBR  \n",
    "\n",
    "# Australia\n",
    "Australia\tAU  \n",
    "\n",
    "# Asia\n",
    "India\tIN  "
   ]
  },
  {
   "cell_type": "code",
   "execution_count": 2,
   "metadata": {},
   "outputs": [],
   "source": [
    "countries = ['FR','DE','US','IT','CA','GB','ES','AU','DK','MX','BR','IN']"
   ]
  },
  {
   "cell_type": "code",
   "execution_count": 4,
   "metadata": {},
   "outputs": [],
   "source": [
    "import pandas as pd\n",
    "%matplotlib inline\n",
    "import numpy as np\n",
    "import matplotlib.pyplot as plt\n",
    "import math \n",
    "import seaborn as sns\n",
    "\n",
    "parentDirectory = os.path.abspath(os.path.join(os.path.join(os.getcwd(), os.pardir), os.pardir))\n",
    "DATA_DIR = parentDirectory +'/data/'\n",
    "FIGURES_DIR = parentDirectory +'/figures/'\n",
    "\n",
    "df_labels = pd.read_csv(DATA_DIR+'wikidata_info_entities_cleaned.csv')"
   ]
  },
  {
   "cell_type": "code",
   "execution_count": 5,
   "metadata": {},
   "outputs": [],
   "source": [
    "country = ''\n",
    "country_code = \"\"\n",
    "\n",
    "df_trends = pd.read_csv(DATA_DIR+'foods_geo='+country_code+'_timeframe=2015-09-09 2020-09-09.tsv', sep = \"\\t\")\n",
    "df_trends.columns = ['mid']+list(df_trends.columns[1:])\n",
    "freebase_foods = pd.read_csv(DATA_DIR+'freebase_foods.tsv',sep = \"\\t\")\n",
    "df = df_trends.merge(freebase_foods, left_on= 'mid', right_on = 'mid', how= 'left')\n",
    "\n",
    "df = df.merge(df_labels, on = 'mid', how = 'left').drop(['Unnamed: 0', 'qid', 'name_y'], axis = 1)"
   ]
  },
  {
   "cell_type": "code",
   "execution_count": 7,
   "metadata": {},
   "outputs": [],
   "source": [
    "#keep 2019-2020\n",
    "columns = ['mid']+list(df.columns)[-98:]\n",
    "\n",
    "df = df[columns]\n",
    "date_columns = columns[1:-10]"
   ]
  },
  {
   "cell_type": "code",
   "execution_count": 18,
   "metadata": {},
   "outputs": [
    {
     "data": {
      "text/plain": [
       "0.9567163604447165"
      ]
     },
     "execution_count": 18,
     "metadata": {},
     "output_type": "execute_result"
    }
   ],
   "source": [
    "total_sum = df[date_columns].sum(axis = 1).sort_values(ascending = False).sum()\n",
    "df[date_columns].sum(axis = 1).sort_values(ascending = False)[:1200].sum() / total_sum"
   ]
  },
  {
   "cell_type": "code",
   "execution_count": 19,
   "metadata": {},
   "outputs": [],
   "source": [
    "df_selected = df.iloc[df[date_columns].sum(axis = 1).sort_values(ascending = False)[:1200].index]"
   ]
  },
  {
   "cell_type": "code",
   "execution_count": 26,
   "metadata": {},
   "outputs": [
    {
     "name": "stderr",
     "output_type": "stream",
     "text": [
      "/opt/anaconda3/lib/python3.7/site-packages/ipykernel_launcher.py:1: UserWarning: Boolean Series key will be reindexed to match DataFrame index.\n",
      "  \"\"\"Entry point for launching an IPython kernel.\n"
     ]
    }
   ],
   "source": [
    "df_to_annotate = df_selected[(df['class'].apply(lambda x: not(type(x)==str)))][['mid','name_x','class']].reset_index(drop=True)\n",
    "\n",
    "df_to_annotate.to_csv(\"to_annotate.csv\")"
   ]
  }
 ],
 "metadata": {
  "kernelspec": {
   "display_name": "Python 3",
   "language": "python",
   "name": "python3"
  },
  "language_info": {
   "codemirror_mode": {
    "name": "ipython",
    "version": 3
   },
   "file_extension": ".py",
   "mimetype": "text/x-python",
   "name": "python",
   "nbconvert_exporter": "python",
   "pygments_lexer": "ipython3",
   "version": "3.7.7"
  }
 },
 "nbformat": 4,
 "nbformat_minor": 4
}
